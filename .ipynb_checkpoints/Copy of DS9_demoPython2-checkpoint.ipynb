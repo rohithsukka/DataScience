{
 "cells": [
  {
   "cell_type": "code",
   "execution_count": null,
   "metadata": {
    "colab": {
     "base_uri": "https://localhost:8080/"
    },
    "executionInfo": {
     "elapsed": 10,
     "status": "ok",
     "timestamp": 1708610912124,
     "user": {
      "displayName": "Bipul Kumar",
      "userId": "09908096458019685835"
     },
     "user_tz": -330
    },
    "id": "NK-Ex6xQJTV9",
    "outputId": "34447b69-25a2-4631-b2ea-8bec6447c34f"
   },
   "outputs": [
    {
     "name": "stdout",
     "output_type": "stream",
     "text": [
      "Hello World\n"
     ]
    }
   ],
   "source": [
    "print(\"Hello World\")"
   ]
  },
  {
   "cell_type": "markdown",
   "metadata": {
    "id": "ur6oMzvJJP1L"
   },
   "source": [
    "**Variables & Values**\n",
    "  * helps in reusebility"
   ]
  },
  {
   "cell_type": "code",
   "execution_count": null,
   "metadata": {
    "colab": {
     "base_uri": "https://localhost:8080/"
    },
    "executionInfo": {
     "elapsed": 14,
     "status": "ok",
     "timestamp": 1708610962432,
     "user": {
      "displayName": "Bipul Kumar",
      "userId": "09908096458019685835"
     },
     "user_tz": -330
    },
    "id": "ETyGpKQeIzyF",
    "outputId": "1ac4513a-ef79-4a8f-ceb5-a6514fe11820"
   },
   "outputs": [
    {
     "name": "stdout",
     "output_type": "stream",
     "text": [
      "14\n",
      "17\n"
     ]
    }
   ],
   "source": [
    "a = 7\n",
    "\n",
    "print(a * 2)\n",
    "print(a + 10)"
   ]
  },
  {
   "cell_type": "code",
   "execution_count": null,
   "metadata": {
    "colab": {
     "base_uri": "https://localhost:8080/"
    },
    "executionInfo": {
     "elapsed": 19,
     "status": "ok",
     "timestamp": 1708611016501,
     "user": {
      "displayName": "Bipul Kumar",
      "userId": "09908096458019685835"
     },
     "user_tz": -330
    },
    "id": "MSuIetuPJiCt",
    "outputId": "cd721ab3-f5a2-4d64-bde9-5b6b20ab1231"
   },
   "outputs": [
    {
     "name": "stdout",
     "output_type": "stream",
     "text": [
      "Bipul\n",
      "Hello Bipul\n"
     ]
    }
   ],
   "source": [
    "name = \"Bipul\"\n",
    "\n",
    "print(name)\n",
    "print(\"Hello\", name)"
   ]
  },
  {
   "cell_type": "code",
   "execution_count": null,
   "metadata": {
    "colab": {
     "base_uri": "https://localhost:8080/"
    },
    "executionInfo": {
     "elapsed": 13,
     "status": "ok",
     "timestamp": 1708611139536,
     "user": {
      "displayName": "Bipul Kumar",
      "userId": "09908096458019685835"
     },
     "user_tz": -330
    },
    "id": "4rpgRb_CKAc5",
    "outputId": "f222a6da-bed3-4145-ef7a-a49101835481"
   },
   "outputs": [
    {
     "name": "stdout",
     "output_type": "stream",
     "text": [
      "Ajay\n",
      "24\n",
      "Mumbai\n"
     ]
    }
   ],
   "source": [
    "name = \"Ajay\"\n",
    "age = 24\n",
    "location = \"Mumbai\"\n",
    "\n",
    "print(name)\n",
    "print(age)\n",
    "print(location)"
   ]
  },
  {
   "cell_type": "code",
   "execution_count": null,
   "metadata": {
    "colab": {
     "base_uri": "https://localhost:8080/"
    },
    "executionInfo": {
     "elapsed": 15,
     "status": "ok",
     "timestamp": 1708611163768,
     "user": {
      "displayName": "Bipul Kumar",
      "userId": "09908096458019685835"
     },
     "user_tz": -330
    },
    "id": "2O7Q3VtMJxBO",
    "outputId": "5ec796d9-7783-44db-e480-bd212d22b5b4"
   },
   "outputs": [
    {
     "name": "stdout",
     "output_type": "stream",
     "text": [
      "Anil\n",
      "33\n",
      "Delhi\n"
     ]
    }
   ],
   "source": [
    "name,age,location = \"Anil\" , 33 , \"Delhi\"\n",
    "\n",
    "print(name)\n",
    "print(age)\n",
    "print(location)"
   ]
  },
  {
   "cell_type": "code",
   "execution_count": null,
   "metadata": {
    "colab": {
     "base_uri": "https://localhost:8080/"
    },
    "executionInfo": {
     "elapsed": 7,
     "status": "ok",
     "timestamp": 1708611208400,
     "user": {
      "displayName": "Bipul Kumar",
      "userId": "09908096458019685835"
     },
     "user_tz": -330
    },
    "id": "npvWZYPnKVCa",
    "outputId": "0b8f48fe-fb2e-4461-f2cf-d945b3290ab9"
   },
   "outputs": [
    {
     "name": "stdout",
     "output_type": "stream",
     "text": [
      "65 130\n",
      "65 32.5\n",
      "65 67\n"
     ]
    }
   ],
   "source": [
    "x = y = z = 65\n",
    "print(x , x * 2)\n",
    "print(y , y / 2)\n",
    "print(z , z + 2)"
   ]
  },
  {
   "cell_type": "markdown",
   "metadata": {
    "id": "gmnF8rHqLbnF"
   },
   "source": [
    "****\n",
    "**Data Types**\n",
    "  * Numerical\n",
    "    * int\n",
    "    * float\n",
    "  * Non-Numerical\n",
    "    * string\n",
    "  * Sequential\n",
    "    * list\n",
    "    * tuple\n",
    "  * boolean\n",
    "    * bool\n",
    "  * dictionary\n",
    "  * set"
   ]
  },
  {
   "cell_type": "code",
   "execution_count": null,
   "metadata": {
    "colab": {
     "base_uri": "https://localhost:8080/"
    },
    "executionInfo": {
     "elapsed": 14,
     "status": "ok",
     "timestamp": 1708611553182,
     "user": {
      "displayName": "Bipul Kumar",
      "userId": "09908096458019685835"
     },
     "user_tz": -330
    },
    "id": "qzCrsaCmKbbW",
    "outputId": "9558a073-0a00-4623-db5f-1ba5cb8a5e5a"
   },
   "outputs": [
    {
     "name": "stdout",
     "output_type": "stream",
     "text": [
      "21\n",
      "<class 'int'>\n"
     ]
    }
   ],
   "source": [
    "age = 21\n",
    "print(age)\n",
    "print(type(age))"
   ]
  },
  {
   "cell_type": "code",
   "execution_count": null,
   "metadata": {
    "colab": {
     "base_uri": "https://localhost:8080/"
    },
    "executionInfo": {
     "elapsed": 22,
     "status": "ok",
     "timestamp": 1708611581494,
     "user": {
      "displayName": "Bipul Kumar",
      "userId": "09908096458019685835"
     },
     "user_tz": -330
    },
    "id": "oy--N-fpL0Ig",
    "outputId": "052b9f5b-8aaf-49b4-c9d3-a26ca116efad"
   },
   "outputs": [
    {
     "name": "stdout",
     "output_type": "stream",
     "text": [
      "43.7\n",
      "<class 'float'>\n"
     ]
    }
   ],
   "source": [
    "weight = 43.7\n",
    "print(weight)\n",
    "print(type(weight))"
   ]
  },
  {
   "cell_type": "code",
   "execution_count": null,
   "metadata": {
    "colab": {
     "base_uri": "https://localhost:8080/"
    },
    "executionInfo": {
     "elapsed": 15,
     "status": "ok",
     "timestamp": 1708611638190,
     "user": {
      "displayName": "Bipul Kumar",
      "userId": "09908096458019685835"
     },
     "user_tz": -330
    },
    "id": "9XXNVfW4L66P",
    "outputId": "0f7f04c8-9402-4078-8f24-df98eda58326"
   },
   "outputs": [
    {
     "name": "stdout",
     "output_type": "stream",
     "text": [
      "Atul\n",
      "<class 'str'>\n"
     ]
    }
   ],
   "source": [
    "name = \"Atul\"\n",
    "print(name)\n",
    "print(type(name))"
   ]
  },
  {
   "cell_type": "code",
   "execution_count": null,
   "metadata": {
    "colab": {
     "base_uri": "https://localhost:8080/"
    },
    "executionInfo": {
     "elapsed": 7,
     "status": "ok",
     "timestamp": 1708611760320,
     "user": {
      "displayName": "Bipul Kumar",
      "userId": "09908096458019685835"
     },
     "user_tz": -330
    },
    "id": "-Bd1EiBbMFST",
    "outputId": "a7fb9cd4-8ed9-4d70-8ef7-d833f606c438"
   },
   "outputs": [
    {
     "name": "stdout",
     "output_type": "stream",
     "text": [
      "Python Programming is fun\n"
     ]
    }
   ],
   "source": [
    "text = \"Python Programming is fun\"\n",
    "print(text)"
   ]
  },
  {
   "cell_type": "code",
   "execution_count": null,
   "metadata": {
    "colab": {
     "base_uri": "https://localhost:8080/"
    },
    "executionInfo": {
     "elapsed": 13,
     "status": "ok",
     "timestamp": 1708611785633,
     "user": {
      "displayName": "Bipul Kumar",
      "userId": "09908096458019685835"
     },
     "user_tz": -330
    },
    "id": "_xuYWL-SMmBt",
    "outputId": "325b1b55-a78b-4fac-bb22-80710c4cb3cd"
   },
   "outputs": [
    {
     "name": "stdout",
     "output_type": "stream",
     "text": [
      "Python\n"
     ]
    }
   ],
   "source": [
    "#text slicing\n",
    "print(text[0:6])"
   ]
  },
  {
   "cell_type": "code",
   "execution_count": null,
   "metadata": {
    "colab": {
     "base_uri": "https://localhost:8080/"
    },
    "executionInfo": {
     "elapsed": 6,
     "status": "ok",
     "timestamp": 1708611808760,
     "user": {
      "displayName": "Bipul Kumar",
      "userId": "09908096458019685835"
     },
     "user_tz": -330
    },
    "id": "Vmo3IYvnMpgV",
    "outputId": "582f1ff1-5cc8-4121-83af-45934ce8b74e"
   },
   "outputs": [
    {
     "name": "stdout",
     "output_type": "stream",
     "text": [
      "Progr\n"
     ]
    }
   ],
   "source": [
    "#text slicing\n",
    "print(text[7:12])"
   ]
  },
  {
   "cell_type": "code",
   "execution_count": null,
   "metadata": {
    "colab": {
     "base_uri": "https://localhost:8080/"
    },
    "executionInfo": {
     "elapsed": 12,
     "status": "ok",
     "timestamp": 1708611828944,
     "user": {
      "displayName": "Bipul Kumar",
      "userId": "09908096458019685835"
     },
     "user_tz": -330
    },
    "id": "b2JCw9MvMyqJ",
    "outputId": "15499bba-4a0e-401c-ea0e-8e348baf2ca0"
   },
   "outputs": [
    {
     "name": "stdout",
     "output_type": "stream",
     "text": [
      "25\n"
     ]
    }
   ],
   "source": [
    "print(len(text))"
   ]
  },
  {
   "cell_type": "markdown",
   "metadata": {
    "id": "tpXy6h_YO_nM"
   },
   "source": [
    "* **list** - mutable data type"
   ]
  },
  {
   "cell_type": "code",
   "execution_count": null,
   "metadata": {
    "colab": {
     "base_uri": "https://localhost:8080/"
    },
    "executionInfo": {
     "elapsed": 16,
     "status": "ok",
     "timestamp": 1708611909791,
     "user": {
      "displayName": "Bipul Kumar",
      "userId": "09908096458019685835"
     },
     "user_tz": -330
    },
    "id": "Oj63rqVDM3am",
    "outputId": "d5e9137d-f750-41e3-d723-001fa7179bfe"
   },
   "outputs": [
    {
     "name": "stdout",
     "output_type": "stream",
     "text": [
      "[34, 32, 35, 29, 27, 37, 39, 40]\n",
      "<class 'list'>\n"
     ]
    }
   ],
   "source": [
    "ages = [34,32,35,29,27,37,39,40]\n",
    "print(ages)\n",
    "print(type(ages))"
   ]
  },
  {
   "cell_type": "code",
   "execution_count": null,
   "metadata": {
    "colab": {
     "base_uri": "https://localhost:8080/"
    },
    "executionInfo": {
     "elapsed": 485,
     "status": "ok",
     "timestamp": 1708611987621,
     "user": {
      "displayName": "Bipul Kumar",
      "userId": "09908096458019685835"
     },
     "user_tz": -330
    },
    "id": "g53H-Uq0NI2s",
    "outputId": "74c5e5db-62a0-4d30-95e1-d20197fa534a"
   },
   "outputs": [
    {
     "name": "stdout",
     "output_type": "stream",
     "text": [
      "34\n",
      "29\n"
     ]
    }
   ],
   "source": [
    "print(ages[0])\n",
    "print(ages[3])"
   ]
  },
  {
   "cell_type": "code",
   "execution_count": null,
   "metadata": {
    "colab": {
     "base_uri": "https://localhost:8080/"
    },
    "executionInfo": {
     "elapsed": 6,
     "status": "ok",
     "timestamp": 1708611995195,
     "user": {
      "displayName": "Bipul Kumar",
      "userId": "09908096458019685835"
     },
     "user_tz": -330
    },
    "id": "c_tqmfN1Na6P",
    "outputId": "c9f8f129-ecec-4b41-f1f3-394d87d3cd5a"
   },
   "outputs": [
    {
     "name": "stdout",
     "output_type": "stream",
     "text": [
      "8\n"
     ]
    }
   ],
   "source": [
    "print(len(ages))"
   ]
  },
  {
   "cell_type": "code",
   "execution_count": null,
   "metadata": {
    "colab": {
     "base_uri": "https://localhost:8080/"
    },
    "executionInfo": {
     "elapsed": 7,
     "status": "ok",
     "timestamp": 1708612061219,
     "user": {
      "displayName": "Bipul Kumar",
      "userId": "09908096458019685835"
     },
     "user_tz": -330
    },
    "id": "zcese0hSNgFW",
    "outputId": "3d5d50f2-387b-4384-c1b2-e5c09558a079"
   },
   "outputs": [
    {
     "name": "stdout",
     "output_type": "stream",
     "text": [
      "[35, 29, 27, 37]\n"
     ]
    }
   ],
   "source": [
    "#list slicing       #list_variable[initial_index : initial_index + number of values]\n",
    "print(ages[2:6])"
   ]
  },
  {
   "cell_type": "code",
   "execution_count": null,
   "metadata": {
    "colab": {
     "base_uri": "https://localhost:8080/"
    },
    "executionInfo": {
     "elapsed": 466,
     "status": "ok",
     "timestamp": 1708612374797,
     "user": {
      "displayName": "Bipul Kumar",
      "userId": "09908096458019685835"
     },
     "user_tz": -330
    },
    "id": "PBS-rOL-Nk6E",
    "outputId": "11de7151-dd13-4833-e634-1326f85d300f"
   },
   "outputs": [
    {
     "name": "stdout",
     "output_type": "stream",
     "text": [
      "[34, 32, 35, 29, 27, 37, 39, 40]\n",
      "[34, 32, 65, 29, 27, 37, 39, 40]\n"
     ]
    }
   ],
   "source": [
    "print(ages)\n",
    "\n",
    "ages[2] = 65\n",
    "\n",
    "print(ages)"
   ]
  },
  {
   "cell_type": "code",
   "execution_count": null,
   "metadata": {
    "colab": {
     "base_uri": "https://localhost:8080/"
    },
    "executionInfo": {
     "elapsed": 9,
     "status": "ok",
     "timestamp": 1708612465373,
     "user": {
      "displayName": "Bipul Kumar",
      "userId": "09908096458019685835"
     },
     "user_tz": -330
    },
    "id": "OekfgytWPJDj",
    "outputId": "1ea00d18-62eb-4e29-acac-fc00304ffafd"
   },
   "outputs": [
    {
     "name": "stdout",
     "output_type": "stream",
     "text": [
      "[34, 32, 65, 29, 27, 37, 39, 40, 64]\n"
     ]
    }
   ],
   "source": [
    "#adding a new entity - append()\n",
    "\n",
    "ages.append(64)\n",
    "print(ages)"
   ]
  },
  {
   "cell_type": "code",
   "execution_count": null,
   "metadata": {
    "colab": {
     "base_uri": "https://localhost:8080/"
    },
    "executionInfo": {
     "elapsed": 5,
     "status": "ok",
     "timestamp": 1708612566709,
     "user": {
      "displayName": "Bipul Kumar",
      "userId": "09908096458019685835"
     },
     "user_tz": -330
    },
    "id": "E86gGAx2O3l3",
    "outputId": "cba517a8-98d3-45b8-92a5-bb6cb062af6d"
   },
   "outputs": [
    {
     "name": "stdout",
     "output_type": "stream",
     "text": [
      "[34, 32, 65, 70, 29, 27, 37, 39, 40, 64]\n"
     ]
    }
   ],
   "source": [
    "#adding a new entity at a defined index - insert()\n",
    "\n",
    "ages.insert(3,70)\n",
    "print(ages)"
   ]
  },
  {
   "cell_type": "code",
   "execution_count": null,
   "metadata": {
    "colab": {
     "base_uri": "https://localhost:8080/"
    },
    "executionInfo": {
     "elapsed": 8,
     "status": "ok",
     "timestamp": 1708612675392,
     "user": {
      "displayName": "Bipul Kumar",
      "userId": "09908096458019685835"
     },
     "user_tz": -330
    },
    "id": "IXbWGVozPrni",
    "outputId": "d2c544bb-ef43-4c6e-cf71-438a8c416361"
   },
   "outputs": [
    {
     "name": "stdout",
     "output_type": "stream",
     "text": [
      "[34, 32, 65, 70, 27, 37, 39, 40, 64]\n"
     ]
    }
   ],
   "source": [
    "#remove a entity from a list - remove()\n",
    "ages.remove(29)\n",
    "print(ages)"
   ]
  },
  {
   "cell_type": "code",
   "execution_count": null,
   "metadata": {
    "colab": {
     "base_uri": "https://localhost:8080/"
    },
    "executionInfo": {
     "elapsed": 8,
     "status": "ok",
     "timestamp": 1708612775925,
     "user": {
      "displayName": "Bipul Kumar",
      "userId": "09908096458019685835"
     },
     "user_tz": -330
    },
    "id": "rifukFl4QGMs",
    "outputId": "44cb43db-0319-408a-9bb0-a880d8ac39c6"
   },
   "outputs": [
    {
     "name": "stdout",
     "output_type": "stream",
     "text": [
      "[34, 32, 65, 70, 27, 39, 40, 64]\n"
     ]
    }
   ],
   "source": [
    "#remove an entity using index value - pop(index)\n",
    "\n",
    "ages.pop(5)\n",
    "print(ages)"
   ]
  },
  {
   "cell_type": "code",
   "execution_count": null,
   "metadata": {
    "colab": {
     "base_uri": "https://localhost:8080/"
    },
    "executionInfo": {
     "elapsed": 4,
     "status": "ok",
     "timestamp": 1708612807993,
     "user": {
      "displayName": "Bipul Kumar",
      "userId": "09908096458019685835"
     },
     "user_tz": -330
    },
    "id": "wG-ak2L2Qevj",
    "outputId": "466988b8-b54c-49d4-bd20-e7c119e3ca8a"
   },
   "outputs": [
    {
     "name": "stdout",
     "output_type": "stream",
     "text": [
      "3\n"
     ]
    }
   ],
   "source": [
    "#to know index of certain entity - index()\n",
    "\n",
    "print(ages.index(70))"
   ]
  },
  {
   "cell_type": "code",
   "execution_count": null,
   "metadata": {
    "colab": {
     "base_uri": "https://localhost:8080/"
    },
    "executionInfo": {
     "elapsed": 16,
     "status": "ok",
     "timestamp": 1708612871353,
     "user": {
      "displayName": "Bipul Kumar",
      "userId": "09908096458019685835"
     },
     "user_tz": -330
    },
    "id": "Bw1UlVUNQmiX",
    "outputId": "18440e81-bb13-4903-cce3-9b30982b5d89"
   },
   "outputs": [
    {
     "name": "stdout",
     "output_type": "stream",
     "text": [
      "[34, 32, 65, 70, 27, 39, 40, 64]\n"
     ]
    }
   ],
   "source": [
    "print(ages)"
   ]
  },
  {
   "cell_type": "code",
   "execution_count": null,
   "metadata": {
    "colab": {
     "base_uri": "https://localhost:8080/"
    },
    "executionInfo": {
     "elapsed": 10,
     "status": "ok",
     "timestamp": 1708612902002,
     "user": {
      "displayName": "Bipul Kumar",
      "userId": "09908096458019685835"
     },
     "user_tz": -330
    },
    "id": "4OE1CEF3Q1yP",
    "outputId": "8a04d39e-80fe-45d5-e38f-47d4a8c47a4e"
   },
   "outputs": [
    {
     "name": "stdout",
     "output_type": "stream",
     "text": [
      "[12, 34, 32, 65, 70, 27, 39, 40, 64]\n"
     ]
    }
   ],
   "source": [
    "#adding a new entity at 1st position\n",
    "ages.insert(0 , 12)\n",
    "print(ages)"
   ]
  },
  {
   "cell_type": "markdown",
   "metadata": {
    "id": "gUcmTXWXSoze"
   },
   "source": [
    "* append v/s extend"
   ]
  },
  {
   "cell_type": "code",
   "execution_count": null,
   "metadata": {
    "colab": {
     "base_uri": "https://localhost:8080/"
    },
    "executionInfo": {
     "elapsed": 9,
     "status": "ok",
     "timestamp": 1708613190406,
     "user": {
      "displayName": "Bipul Kumar",
      "userId": "09908096458019685835"
     },
     "user_tz": -330
    },
    "id": "TsZpb68RQ9ZE",
    "outputId": "aae38196-d84f-4652-87ae-d0ae5cb49f9a"
   },
   "outputs": [
    {
     "name": "stdout",
     "output_type": "stream",
     "text": [
      "[34, 32, 35, 29, 27, 37, 39, 40, [5, 4, 7, 9, 3, 6]]\n"
     ]
    }
   ],
   "source": [
    "ages = [34,32,35,29,27,37,39,40]\n",
    "new_ages = [5,4,7,9,3,6]\n",
    "\n",
    "ages.append(new_ages)\n",
    "\n",
    "print(ages)"
   ]
  },
  {
   "cell_type": "code",
   "execution_count": null,
   "metadata": {
    "colab": {
     "base_uri": "https://localhost:8080/"
    },
    "executionInfo": {
     "elapsed": 4,
     "status": "ok",
     "timestamp": 1708613205994,
     "user": {
      "displayName": "Bipul Kumar",
      "userId": "09908096458019685835"
     },
     "user_tz": -330
    },
    "id": "7vZuoKGUSEZz",
    "outputId": "19a7ccdb-e458-427d-8d6d-7b2b4a86ebbf"
   },
   "outputs": [
    {
     "name": "stdout",
     "output_type": "stream",
     "text": [
      "[5, 4, 7, 9, 3, 6]\n"
     ]
    }
   ],
   "source": [
    "print(ages[8])"
   ]
  },
  {
   "cell_type": "code",
   "execution_count": null,
   "metadata": {
    "colab": {
     "base_uri": "https://localhost:8080/"
    },
    "executionInfo": {
     "elapsed": 615,
     "status": "ok",
     "timestamp": 1708613238844,
     "user": {
      "displayName": "Bipul Kumar",
      "userId": "09908096458019685835"
     },
     "user_tz": -330
    },
    "id": "4C9ueXZeRnus",
    "outputId": "3016ee69-ea98-4e09-8d1c-c778ec1f0563"
   },
   "outputs": [
    {
     "name": "stdout",
     "output_type": "stream",
     "text": [
      "[34, 32, 35, 29, 27, 37, 39, 40, 5, 4, 7, 9, 3, 6]\n"
     ]
    }
   ],
   "source": [
    "ages = [34,32,35,29,27,37,39,40]\n",
    "new_ages = [5,4,7,9,3,6]\n",
    "\n",
    "ages.extend(new_ages)\n",
    "print(ages)"
   ]
  },
  {
   "cell_type": "code",
   "execution_count": null,
   "metadata": {
    "colab": {
     "base_uri": "https://localhost:8080/"
    },
    "executionInfo": {
     "elapsed": 431,
     "status": "ok",
     "timestamp": 1708613247912,
     "user": {
      "displayName": "Bipul Kumar",
      "userId": "09908096458019685835"
     },
     "user_tz": -330
    },
    "id": "02s10xoMRxnY",
    "outputId": "3c3bbffe-a611-4f3a-e534-7f2eb74724f9"
   },
   "outputs": [
    {
     "name": "stdout",
     "output_type": "stream",
     "text": [
      "5\n"
     ]
    }
   ],
   "source": [
    "print(ages[8])"
   ]
  },
  {
   "cell_type": "code",
   "execution_count": null,
   "metadata": {
    "colab": {
     "base_uri": "https://localhost:8080/"
    },
    "executionInfo": {
     "elapsed": 5,
     "status": "ok",
     "timestamp": 1708613519167,
     "user": {
      "displayName": "Bipul Kumar",
      "userId": "09908096458019685835"
     },
     "user_tz": -330
    },
    "id": "lH6g4BsISRnI",
    "outputId": "69f15349-31b6-46ed-9fed-c65e01bae3a1"
   },
   "outputs": [
    {
     "name": "stdout",
     "output_type": "stream",
     "text": [
      "9\n"
     ]
    }
   ],
   "source": [
    "#nested list\n",
    "a = [34, 32, 35, 29, 27, 37, 39, 40, [5, 4, 7, 9, 3, 6]]\n",
    "\n",
    "print(a[8][3])"
   ]
  },
  {
   "cell_type": "markdown",
   "metadata": {
    "id": "pSPBY5e_Trx3"
   },
   "source": [
    "* Tuple\n",
    "  * tuples are immutable"
   ]
  },
  {
   "cell_type": "code",
   "execution_count": null,
   "metadata": {
    "colab": {
     "base_uri": "https://localhost:8080/"
    },
    "executionInfo": {
     "elapsed": 455,
     "status": "ok",
     "timestamp": 1708613684480,
     "user": {
      "displayName": "Bipul Kumar",
      "userId": "09908096458019685835"
     },
     "user_tz": -330
    },
    "id": "RhgJiEpsTRVV",
    "outputId": "2b28586a-b384-456b-bae1-9e66f1c2f427"
   },
   "outputs": [
    {
     "name": "stdout",
     "output_type": "stream",
     "text": [
      "('John', 'Joy', 'Ajay', 'Vijay', 'Suresh')\n",
      "<class 'tuple'>\n"
     ]
    }
   ],
   "source": [
    "emps = (\"John\" , \"Joy\" , \"Ajay\" , \"Vijay\" , \"Suresh\")\n",
    "print(emps)\n",
    "print(type(emps))"
   ]
  },
  {
   "cell_type": "code",
   "execution_count": null,
   "metadata": {
    "colab": {
     "base_uri": "https://localhost:8080/",
     "height": 149
    },
    "executionInfo": {
     "elapsed": 498,
     "status": "error",
     "timestamp": 1708613729374,
     "user": {
      "displayName": "Bipul Kumar",
      "userId": "09908096458019685835"
     },
     "user_tz": -330
    },
    "id": "mKPlI5YWT5de",
    "outputId": "eef899b0-28b1-4cba-eca3-1e8f8a99eb48"
   },
   "outputs": [
    {
     "ename": "TypeError",
     "evalue": "'tuple' object does not support item assignment",
     "output_type": "error",
     "traceback": [
      "\u001b[0;31m---------------------------------------------------------------------------\u001b[0m",
      "\u001b[0;31mTypeError\u001b[0m                                 Traceback (most recent call last)",
      "\u001b[0;32m<ipython-input-50-c8ed3564ad1c>\u001b[0m in \u001b[0;36m<cell line: 1>\u001b[0;34m()\u001b[0m\n\u001b[0;32m----> 1\u001b[0;31m \u001b[0memps\u001b[0m\u001b[0;34m[\u001b[0m\u001b[0;36m2\u001b[0m\u001b[0;34m]\u001b[0m \u001b[0;34m=\u001b[0m \u001b[0;34m\"Sanjay\"\u001b[0m\u001b[0;34m\u001b[0m\u001b[0;34m\u001b[0m\u001b[0m\n\u001b[0m",
      "\u001b[0;31mTypeError\u001b[0m: 'tuple' object does not support item assignment"
     ]
    }
   ],
   "source": [
    "emps[2] = \"Sanjay\""
   ]
  },
  {
   "cell_type": "code",
   "execution_count": null,
   "metadata": {
    "colab": {
     "base_uri": "https://localhost:8080/"
    },
    "executionInfo": {
     "elapsed": 17,
     "status": "ok",
     "timestamp": 1708613750696,
     "user": {
      "displayName": "Bipul Kumar",
      "userId": "09908096458019685835"
     },
     "user_tz": -330
    },
    "id": "R7revrkwUE-4",
    "outputId": "777c4141-5068-47f2-a9d1-a9f7062e9915"
   },
   "outputs": [
    {
     "name": "stdout",
     "output_type": "stream",
     "text": [
      "5\n"
     ]
    }
   ],
   "source": [
    "print(len(emps))"
   ]
  },
  {
   "cell_type": "code",
   "execution_count": null,
   "metadata": {
    "colab": {
     "base_uri": "https://localhost:8080/"
    },
    "executionInfo": {
     "elapsed": 7,
     "status": "ok",
     "timestamp": 1708613766557,
     "user": {
      "displayName": "Bipul Kumar",
      "userId": "09908096458019685835"
     },
     "user_tz": -330
    },
    "id": "4kNHnFMOUMg1",
    "outputId": "5118f384-39e0-4e1b-cc56-489b80e0be94"
   },
   "outputs": [
    {
     "name": "stdout",
     "output_type": "stream",
     "text": [
      "('Joy', 'Ajay')\n"
     ]
    }
   ],
   "source": [
    "#slicing\n",
    "print(emps[1:3])"
   ]
  },
  {
   "cell_type": "markdown",
   "metadata": {
    "id": "55ugtmWRU7ib"
   },
   "source": [
    "* boolean"
   ]
  },
  {
   "cell_type": "code",
   "execution_count": null,
   "metadata": {
    "colab": {
     "base_uri": "https://localhost:8080/"
    },
    "executionInfo": {
     "elapsed": 12,
     "status": "ok",
     "timestamp": 1708613987772,
     "user": {
      "displayName": "Bipul Kumar",
      "userId": "09908096458019685835"
     },
     "user_tz": -330
    },
    "id": "UeYqd1xqUOC6",
    "outputId": "cfb2b720-d077-4274-fd75-dc4ae0197f8c"
   },
   "outputs": [
    {
     "name": "stdout",
     "output_type": "stream",
     "text": [
      "True\n",
      "<class 'bool'>\n"
     ]
    }
   ],
   "source": [
    "status = True\n",
    "print(status)\n",
    "print(type(status))"
   ]
  },
  {
   "cell_type": "code",
   "execution_count": null,
   "metadata": {
    "colab": {
     "base_uri": "https://localhost:8080/"
    },
    "executionInfo": {
     "elapsed": 5,
     "status": "ok",
     "timestamp": 1708614000630,
     "user": {
      "displayName": "Bipul Kumar",
      "userId": "09908096458019685835"
     },
     "user_tz": -330
    },
    "id": "-n_CpIhyVFL8",
    "outputId": "197cbbe0-c8c8-4d94-c4e3-2e1974ae0fb9"
   },
   "outputs": [
    {
     "name": "stdout",
     "output_type": "stream",
     "text": [
      "False\n",
      "<class 'bool'>\n"
     ]
    }
   ],
   "source": [
    "status = False\n",
    "print(status)\n",
    "print(type(status))"
   ]
  },
  {
   "cell_type": "markdown",
   "metadata": {
    "id": "_I_mUNusVfrL"
   },
   "source": [
    "* dictionary\n",
    "  * key - value pair"
   ]
  },
  {
   "cell_type": "code",
   "execution_count": null,
   "metadata": {
    "colab": {
     "base_uri": "https://localhost:8080/"
    },
    "executionInfo": {
     "elapsed": 9,
     "status": "ok",
     "timestamp": 1708614182980,
     "user": {
      "displayName": "Bipul Kumar",
      "userId": "09908096458019685835"
     },
     "user_tz": -330
    },
    "id": "jbvmL0OiVJuX",
    "outputId": "31ebaca5-427e-4bc4-9b7e-d7c21d7b384d"
   },
   "outputs": [
    {
     "name": "stdout",
     "output_type": "stream",
     "text": [
      "{'Name': 'Suresh', 'Age': 33, 'Department': 'IT'}\n",
      "<class 'dict'>\n"
     ]
    }
   ],
   "source": [
    "employee_details = {\"Name\" : \"Suresh\" , \"Age\" : 33 , \"Department\" : \"IT\"}\n",
    "\n",
    "print(employee_details)\n",
    "print(type(employee_details))"
   ]
  },
  {
   "cell_type": "code",
   "execution_count": null,
   "metadata": {
    "colab": {
     "base_uri": "https://localhost:8080/"
    },
    "executionInfo": {
     "elapsed": 7,
     "status": "ok",
     "timestamp": 1708614209696,
     "user": {
      "displayName": "Bipul Kumar",
      "userId": "09908096458019685835"
     },
     "user_tz": -330
    },
    "id": "WfQI2WDPVtwm",
    "outputId": "4ad41b01-0b51-4129-8560-ae22440abf9c"
   },
   "outputs": [
    {
     "name": "stdout",
     "output_type": "stream",
     "text": [
      "Suresh\n",
      "33\n"
     ]
    }
   ],
   "source": [
    "print(employee_details[\"Name\"])\n",
    "print(employee_details[\"Age\"])"
   ]
  },
  {
   "cell_type": "code",
   "execution_count": null,
   "metadata": {
    "colab": {
     "base_uri": "https://localhost:8080/"
    },
    "executionInfo": {
     "elapsed": 58,
     "status": "ok",
     "timestamp": 1708614238774,
     "user": {
      "displayName": "Bipul Kumar",
      "userId": "09908096458019685835"
     },
     "user_tz": -330
    },
    "id": "ULls0vUsV_mx",
    "outputId": "94e5aa2f-132e-4f88-f466-9efa5f783e54"
   },
   "outputs": [
    {
     "name": "stdout",
     "output_type": "stream",
     "text": [
      "dict_keys(['Name', 'Age', 'Department'])\n",
      "dict_values(['Suresh', 33, 'IT'])\n"
     ]
    }
   ],
   "source": [
    "print(employee_details.keys())\n",
    "print(employee_details.values())"
   ]
  },
  {
   "cell_type": "code",
   "execution_count": null,
   "metadata": {
    "colab": {
     "base_uri": "https://localhost:8080/"
    },
    "executionInfo": {
     "elapsed": 17,
     "status": "ok",
     "timestamp": 1708614264902,
     "user": {
      "displayName": "Bipul Kumar",
      "userId": "09908096458019685835"
     },
     "user_tz": -330
    },
    "id": "cPOb3qWgV0Du",
    "outputId": "5cd35dfb-2457-4add-ffff-26470018d2b6"
   },
   "outputs": [
    {
     "name": "stdout",
     "output_type": "stream",
     "text": [
      "{'Name': 'Suresh', 'Age': 33, 'Department': 'IT', 'email': 'suresh@abc.com'}\n"
     ]
    }
   ],
   "source": [
    "employee_details['email'] = \"suresh@abc.com\"\n",
    "print(employee_details)"
   ]
  },
  {
   "cell_type": "code",
   "execution_count": null,
   "metadata": {
    "colab": {
     "base_uri": "https://localhost:8080/"
    },
    "executionInfo": {
     "elapsed": 9,
     "status": "ok",
     "timestamp": 1708614283667,
     "user": {
      "displayName": "Bipul Kumar",
      "userId": "09908096458019685835"
     },
     "user_tz": -330
    },
    "id": "XSwGyWM0WKSd",
    "outputId": "052c20f2-5fa2-45d7-ae04-42afc00da5e8"
   },
   "outputs": [
    {
     "name": "stdout",
     "output_type": "stream",
     "text": [
      "{'Name': 'Suresh', 'Age': 50, 'Department': 'IT', 'email': 'suresh@abc.com'}\n"
     ]
    }
   ],
   "source": [
    "employee_details[\"Age\"] = 50\n",
    "print(employee_details)"
   ]
  },
  {
   "cell_type": "code",
   "execution_count": null,
   "metadata": {
    "colab": {
     "base_uri": "https://localhost:8080/"
    },
    "executionInfo": {
     "elapsed": 10,
     "status": "ok",
     "timestamp": 1708614338916,
     "user": {
      "displayName": "Bipul Kumar",
      "userId": "09908096458019685835"
     },
     "user_tz": -330
    },
    "id": "P1N-z11XWOtx",
    "outputId": "ece46f71-e17a-489c-f97f-709f394b9e66"
   },
   "outputs": [
    {
     "name": "stdout",
     "output_type": "stream",
     "text": [
      "4\n"
     ]
    }
   ],
   "source": [
    "print(len(employee_details))"
   ]
  },
  {
   "cell_type": "code",
   "execution_count": null,
   "metadata": {
    "colab": {
     "base_uri": "https://localhost:8080/",
     "height": 36
    },
    "executionInfo": {
     "elapsed": 484,
     "status": "ok",
     "timestamp": 1708614407187,
     "user": {
      "displayName": "Bipul Kumar",
      "userId": "09908096458019685835"
     },
     "user_tz": -330
    },
    "id": "T3M0ZH2XWcPi",
    "outputId": "13f496ba-1693-43d1-b93a-0a4b150b5337"
   },
   "outputs": [
    {
     "data": {
      "application/vnd.google.colaboratory.intrinsic+json": {
       "type": "string"
      },
      "text/plain": [
       "'Suresh'"
      ]
     },
     "execution_count": 71,
     "metadata": {},
     "output_type": "execute_result"
    }
   ],
   "source": [
    "#To remove an entity from a dictionary\n",
    "employee_details.pop(\"Name\")"
   ]
  },
  {
   "cell_type": "code",
   "execution_count": null,
   "metadata": {
    "colab": {
     "base_uri": "https://localhost:8080/"
    },
    "executionInfo": {
     "elapsed": 20,
     "status": "ok",
     "timestamp": 1708614419147,
     "user": {
      "displayName": "Bipul Kumar",
      "userId": "09908096458019685835"
     },
     "user_tz": -330
    },
    "id": "4havhurCWgqW",
    "outputId": "5382f134-d4b5-4f62-f25e-576cf5dca893"
   },
   "outputs": [
    {
     "name": "stdout",
     "output_type": "stream",
     "text": [
      "{'Age': 50, 'Department': 'IT', 'email': 'suresh@abc.com'}\n"
     ]
    }
   ],
   "source": [
    "print(employee_details)"
   ]
  },
  {
   "cell_type": "markdown",
   "metadata": {
    "id": "mbFmo6EiZay4"
   },
   "source": [
    "* update() function in dictionary"
   ]
  },
  {
   "cell_type": "code",
   "execution_count": null,
   "metadata": {
    "colab": {
     "base_uri": "https://localhost:8080/"
    },
    "executionInfo": {
     "elapsed": 36,
     "status": "ok",
     "timestamp": 1708615039827,
     "user": {
      "displayName": "Bipul Kumar",
      "userId": "09908096458019685835"
     },
     "user_tz": -330
    },
    "id": "CV9vSxYjWv3x",
    "outputId": "a5bb9104-f0ca-4082-dba0-eade0c938012"
   },
   "outputs": [
    {
     "name": "stdout",
     "output_type": "stream",
     "text": [
      "Employee Details 1 => {'Name': 'Suresh', 'Age': 33, 'Department': 'IT'}\n",
      "Employee Details 2 => {'Name': 'Sanjay', 'Age': 22, 'Department': 'HR'}\n"
     ]
    }
   ],
   "source": [
    "employee_details_1 = {\"Name\" : \"Suresh\" , \"Age\" : 33 , \"Department\" : \"IT\"}\n",
    "employee_details_2 = {\"Name\" : \"Sanjay\" , \"Age\" : 22 , \"Department\" : \"HR\"}\n",
    "\n",
    "print(\"Employee Details 1 =>\" , employee_details_1)\n",
    "print(\"Employee Details 2 =>\" , employee_details_2)"
   ]
  },
  {
   "cell_type": "code",
   "execution_count": null,
   "metadata": {
    "colab": {
     "base_uri": "https://localhost:8080/"
    },
    "executionInfo": {
     "elapsed": 9,
     "status": "ok",
     "timestamp": 1708615049492,
     "user": {
      "displayName": "Bipul Kumar",
      "userId": "09908096458019685835"
     },
     "user_tz": -330
    },
    "id": "A5DUfJjFYwzo",
    "outputId": "d18921a0-7238-4668-f6d7-d88d726af5ee"
   },
   "outputs": [
    {
     "name": "stdout",
     "output_type": "stream",
     "text": [
      "Employee Details 1 => {'Name': 'Sanjay', 'Age': 22, 'Department': 'HR'}\n"
     ]
    }
   ],
   "source": [
    "employee_details_1.update(employee_details_2)\n",
    "print(\"Employee Details 1 =>\" , employee_details_1)"
   ]
  },
  {
   "cell_type": "code",
   "execution_count": null,
   "metadata": {
    "colab": {
     "base_uri": "https://localhost:8080/"
    },
    "executionInfo": {
     "elapsed": 9,
     "status": "ok",
     "timestamp": 1708614917224,
     "user": {
      "displayName": "Bipul Kumar",
      "userId": "09908096458019685835"
     },
     "user_tz": -330
    },
    "id": "JOTlmn3NX_XS",
    "outputId": "7e61a39f-ce5e-4a40-e4ed-1b300ba0dbbf"
   },
   "outputs": [
    {
     "name": "stdout",
     "output_type": "stream",
     "text": [
      "{'Name': 'Suresh', 'Age': 33, 'Department': 'IT'}\n",
      "{'email': 'suresh@abc.com', 'salary': 600000}\n"
     ]
    }
   ],
   "source": [
    "employee_details_1 = {\"Name\" : \"Suresh\" , \"Age\" : 33 , \"Department\" : \"IT\"}\n",
    "print(employee_details_1)\n",
    "employee_details_1_moreinfo = {\"email\" : \"suresh@abc.com\" , \"salary\" : 600000}\n",
    "print(employee_details_1_moreinfo)"
   ]
  },
  {
   "cell_type": "code",
   "execution_count": null,
   "metadata": {
    "colab": {
     "base_uri": "https://localhost:8080/"
    },
    "executionInfo": {
     "elapsed": 17,
     "status": "ok",
     "timestamp": 1708614941001,
     "user": {
      "displayName": "Bipul Kumar",
      "userId": "09908096458019685835"
     },
     "user_tz": -330
    },
    "id": "6-dx5izhYGLE",
    "outputId": "4fb021f9-eb02-4f81-c5a7-1c8ab5ef4012"
   },
   "outputs": [
    {
     "name": "stdout",
     "output_type": "stream",
     "text": [
      "{'Name': 'Suresh', 'Age': 33, 'Department': 'IT', 'email': 'suresh@abc.com', 'salary': 600000}\n"
     ]
    }
   ],
   "source": [
    "employee_details_1.update(employee_details_1_moreinfo)\n",
    "print(employee_details_1)"
   ]
  },
  {
   "cell_type": "markdown",
   "metadata": {
    "id": "GQvZ1l1eZfTE"
   },
   "source": [
    "* Set"
   ]
  },
  {
   "cell_type": "code",
   "execution_count": null,
   "metadata": {
    "colab": {
     "base_uri": "https://localhost:8080/"
    },
    "executionInfo": {
     "elapsed": 15,
     "status": "ok",
     "timestamp": 1708615174721,
     "user": {
      "displayName": "Bipul Kumar",
      "userId": "09908096458019685835"
     },
     "user_tz": -330
    },
    "id": "UmY-_1ZJYvWF",
    "outputId": "2d41c0a4-6e9a-4614-ca8c-1f0b3b6b54ec"
   },
   "outputs": [
    {
     "name": "stdout",
     "output_type": "stream",
     "text": [
      "[6, 9, 3, 7, 5, 3, 6, 2, 1, 9] <class 'list'>\n"
     ]
    }
   ],
   "source": [
    "x = [6,9,3,7,5,3,6,2,1,9]\n",
    "print(x , type(x))"
   ]
  },
  {
   "cell_type": "code",
   "execution_count": null,
   "metadata": {
    "colab": {
     "base_uri": "https://localhost:8080/"
    },
    "executionInfo": {
     "elapsed": 10,
     "status": "ok",
     "timestamp": 1708615195972,
     "user": {
      "displayName": "Bipul Kumar",
      "userId": "09908096458019685835"
     },
     "user_tz": -330
    },
    "id": "PksZGBbwZmfy",
    "outputId": "d29ed6eb-9375-4f4f-a7f7-bc938564141a"
   },
   "outputs": [
    {
     "name": "stdout",
     "output_type": "stream",
     "text": [
      "{1, 2, 3, 5, 6, 7, 9} <class 'set'>\n"
     ]
    }
   ],
   "source": [
    "z = {6,9,3,7,5,3,6,2,1,9}\n",
    "print(z , type(z))"
   ]
  },
  {
   "cell_type": "code",
   "execution_count": null,
   "metadata": {
    "colab": {
     "base_uri": "https://localhost:8080/"
    },
    "executionInfo": {
     "elapsed": 11,
     "status": "ok",
     "timestamp": 1708615372052,
     "user": {
      "displayName": "Bipul Kumar",
      "userId": "09908096458019685835"
     },
     "user_tz": -330
    },
    "id": "ZmAdneSoZr9B",
    "outputId": "1bae2923-c2d9-4046-93ee-15d657b59575"
   },
   "outputs": [
    {
     "name": "stdout",
     "output_type": "stream",
     "text": [
      "{1, 2, 3, 5, 6, 7, 9}\n"
     ]
    }
   ],
   "source": [
    "#add() -> to add a new member into a set\n",
    "z.add(6)\n",
    "print(z)"
   ]
  },
  {
   "cell_type": "code",
   "execution_count": null,
   "metadata": {
    "colab": {
     "base_uri": "https://localhost:8080/"
    },
    "executionInfo": {
     "elapsed": 24,
     "status": "ok",
     "timestamp": 1708615382896,
     "user": {
      "displayName": "Bipul Kumar",
      "userId": "09908096458019685835"
     },
     "user_tz": -330
    },
    "id": "zefX5zoUaYb1",
    "outputId": "08ddbff7-46d6-42c8-9dd5-5ab128454042"
   },
   "outputs": [
    {
     "name": "stdout",
     "output_type": "stream",
     "text": [
      "{0.7, 1, 2, 3, 5, 6, 7, 9}\n"
     ]
    }
   ],
   "source": [
    "z.add(0.7)\n",
    "print(z)"
   ]
  },
  {
   "cell_type": "code",
   "execution_count": null,
   "metadata": {
    "colab": {
     "base_uri": "https://localhost:8080/"
    },
    "executionInfo": {
     "elapsed": 14,
     "status": "ok",
     "timestamp": 1708615409975,
     "user": {
      "displayName": "Bipul Kumar",
      "userId": "09908096458019685835"
     },
     "user_tz": -330
    },
    "id": "9kgrPSWMabPd",
    "outputId": "02498968-86ab-4ea7-c047-4a46b9ebc83d"
   },
   "outputs": [
    {
     "name": "stdout",
     "output_type": "stream",
     "text": [
      "{0.7, 1, 2, 3, 5, 6, 7, 9, 605}\n"
     ]
    }
   ],
   "source": [
    "z.add(605)\n",
    "print(z)"
   ]
  },
  {
   "cell_type": "code",
   "execution_count": null,
   "metadata": {
    "colab": {
     "base_uri": "https://localhost:8080/"
    },
    "executionInfo": {
     "elapsed": 7,
     "status": "ok",
     "timestamp": 1708615428562,
     "user": {
      "displayName": "Bipul Kumar",
      "userId": "09908096458019685835"
     },
     "user_tz": -330
    },
    "id": "KpzNJ2d7af-K",
    "outputId": "06ed2398-7245-4cf6-cf5c-6fcfad723071"
   },
   "outputs": [
    {
     "name": "stdout",
     "output_type": "stream",
     "text": [
      "{0.7, 1, 2, 3, 6, 7, 9, 605}\n"
     ]
    }
   ],
   "source": [
    "z.remove(5)\n",
    "print(z)"
   ]
  },
  {
   "cell_type": "code",
   "execution_count": null,
   "metadata": {
    "colab": {
     "base_uri": "https://localhost:8080/",
     "height": 149
    },
    "executionInfo": {
     "elapsed": 24,
     "status": "error",
     "timestamp": 1708615440694,
     "user": {
      "displayName": "Bipul Kumar",
      "userId": "09908096458019685835"
     },
     "user_tz": -330
    },
    "id": "AFL5veoEamUm",
    "outputId": "085670bc-06b5-4ed3-eea5-5814a77d385e"
   },
   "outputs": [
    {
     "ename": "TypeError",
     "evalue": "'set' object is not subscriptable",
     "output_type": "error",
     "traceback": [
      "\u001b[0;31m---------------------------------------------------------------------------\u001b[0m",
      "\u001b[0;31mTypeError\u001b[0m                                 Traceback (most recent call last)",
      "\u001b[0;32m<ipython-input-93-a86b4845ea65>\u001b[0m in \u001b[0;36m<cell line: 1>\u001b[0;34m()\u001b[0m\n\u001b[0;32m----> 1\u001b[0;31m \u001b[0mprint\u001b[0m\u001b[0;34m(\u001b[0m\u001b[0mz\u001b[0m\u001b[0;34m[\u001b[0m\u001b[0;36m4\u001b[0m\u001b[0;34m]\u001b[0m\u001b[0;34m)\u001b[0m\u001b[0;34m\u001b[0m\u001b[0;34m\u001b[0m\u001b[0m\n\u001b[0m",
      "\u001b[0;31mTypeError\u001b[0m: 'set' object is not subscriptable"
     ]
    }
   ],
   "source": [
    "print(z[4])"
   ]
  },
  {
   "cell_type": "code",
   "execution_count": null,
   "metadata": {
    "colab": {
     "base_uri": "https://localhost:8080/"
    },
    "executionInfo": {
     "elapsed": 454,
     "status": "ok",
     "timestamp": 1708615490377,
     "user": {
      "displayName": "Bipul Kumar",
      "userId": "09908096458019685835"
     },
     "user_tz": -330
    },
    "id": "QzIHrq7vapSM",
    "outputId": "6efa1f5e-1632-4840-83ae-32ce4da9584a"
   },
   "outputs": [
    {
     "name": "stdout",
     "output_type": "stream",
     "text": [
      "[0.7, 1, 2, 3, 6, 7, 9, 605]\n"
     ]
    }
   ],
   "source": [
    "#Typecasting - to convert data types\n",
    "print(list(z))"
   ]
  },
  {
   "cell_type": "code",
   "execution_count": null,
   "metadata": {
    "colab": {
     "base_uri": "https://localhost:8080/"
    },
    "executionInfo": {
     "elapsed": 441,
     "status": "ok",
     "timestamp": 1708615515215,
     "user": {
      "displayName": "Bipul Kumar",
      "userId": "09908096458019685835"
     },
     "user_tz": -330
    },
    "id": "npz8DznAauJB",
    "outputId": "9e826a11-639b-4454-a00b-2d2c38d9f83d"
   },
   "outputs": [
    {
     "name": "stdout",
     "output_type": "stream",
     "text": [
      "6\n"
     ]
    }
   ],
   "source": [
    "print(list(z)[4])"
   ]
  },
  {
   "cell_type": "markdown",
   "metadata": {
    "id": "qVq5tM5Ob09I"
   },
   "source": [
    "*****\n",
    "*****\n",
    "**Operands or Operators**\n",
    "  * Arthmetic operators\n",
    "  * Assignment Operators\n",
    "  * Comparison Operators\n",
    "  * logical operators\n",
    "  * membership operators\n",
    "  * Identity operators\n",
    "  * Bitwise Operator"
   ]
  },
  {
   "cell_type": "code",
   "execution_count": null,
   "metadata": {
    "colab": {
     "base_uri": "https://localhost:8080/"
    },
    "executionInfo": {
     "elapsed": 461,
     "status": "ok",
     "timestamp": 1708616050322,
     "user": {
      "displayName": "Bipul Kumar",
      "userId": "09908096458019685835"
     },
     "user_tz": -330
    },
    "id": "PvFKm5faa6lH",
    "outputId": "25138781-90ef-4d65-8777-f07f077250bb"
   },
   "outputs": [
    {
     "name": "stdout",
     "output_type": "stream",
     "text": [
      "22\n",
      "12\n",
      "85\n",
      "3.4\n",
      "1419857\n",
      "2\n",
      "3\n"
     ]
    }
   ],
   "source": [
    "#Arthmetic operators\n",
    "\n",
    "a = 17\n",
    "b = 5\n",
    "\n",
    "print(a + b)\n",
    "print(a - b)\n",
    "print(a * b)\n",
    "print(a / b)\n",
    "print(a ** b)  #Exponentiation\n",
    "print(a % b)   #Modulo\n",
    "print(a // b)  #floor division"
   ]
  },
  {
   "cell_type": "code",
   "execution_count": null,
   "metadata": {
    "id": "xS3EhRf9clRV"
   },
   "outputs": [],
   "source": [
    "#Assignment Operator\n",
    "x = 10"
   ]
  },
  {
   "cell_type": "code",
   "execution_count": null,
   "metadata": {
    "colab": {
     "base_uri": "https://localhost:8080/"
    },
    "executionInfo": {
     "elapsed": 47,
     "status": "ok",
     "timestamp": 1708616087243,
     "user": {
      "displayName": "Bipul Kumar",
      "userId": "09908096458019685835"
     },
     "user_tz": -330
    },
    "id": "GyOz1rZpdBCl",
    "outputId": "ecd09e10-3f2b-4319-e38d-82ef7a7c96d9"
   },
   "outputs": [
    {
     "name": "stdout",
     "output_type": "stream",
     "text": [
      "14\n"
     ]
    }
   ],
   "source": [
    "x += 4\n",
    "print(x)"
   ]
  },
  {
   "cell_type": "code",
   "execution_count": null,
   "metadata": {
    "colab": {
     "base_uri": "https://localhost:8080/"
    },
    "executionInfo": {
     "elapsed": 7,
     "status": "ok",
     "timestamp": 1708616105305,
     "user": {
      "displayName": "Bipul Kumar",
      "userId": "09908096458019685835"
     },
     "user_tz": -330
    },
    "id": "hSvQgZ_kdHLe",
    "outputId": "a753485b-93eb-4b6b-ef3e-b53788826519"
   },
   "outputs": [
    {
     "name": "stdout",
     "output_type": "stream",
     "text": [
      "12\n"
     ]
    }
   ],
   "source": [
    "x -= 2\n",
    "print(x)"
   ]
  },
  {
   "cell_type": "code",
   "execution_count": null,
   "metadata": {
    "colab": {
     "base_uri": "https://localhost:8080/"
    },
    "executionInfo": {
     "elapsed": 9,
     "status": "ok",
     "timestamp": 1708616119857,
     "user": {
      "displayName": "Bipul Kumar",
      "userId": "09908096458019685835"
     },
     "user_tz": -330
    },
    "id": "Omm9Wj52dLjF",
    "outputId": "a0bc3542-6e93-4455-aed5-404fe051bb15"
   },
   "outputs": [
    {
     "name": "stdout",
     "output_type": "stream",
     "text": [
      "36\n"
     ]
    }
   ],
   "source": [
    "x *= 3\n",
    "print(x)"
   ]
  },
  {
   "cell_type": "code",
   "execution_count": null,
   "metadata": {
    "colab": {
     "base_uri": "https://localhost:8080/"
    },
    "executionInfo": {
     "elapsed": 14,
     "status": "ok",
     "timestamp": 1708616141826,
     "user": {
      "displayName": "Bipul Kumar",
      "userId": "09908096458019685835"
     },
     "user_tz": -330
    },
    "id": "3eduwAP-dO5q",
    "outputId": "592e6594-2d2a-4d87-b5c9-f26b4a31a1cd"
   },
   "outputs": [
    {
     "name": "stdout",
     "output_type": "stream",
     "text": [
      "18.0\n"
     ]
    }
   ],
   "source": [
    "x /= 2\n",
    "print(x)"
   ]
  },
  {
   "cell_type": "code",
   "execution_count": null,
   "metadata": {
    "colab": {
     "base_uri": "https://localhost:8080/"
    },
    "executionInfo": {
     "elapsed": 9,
     "status": "ok",
     "timestamp": 1708616164241,
     "user": {
      "displayName": "Bipul Kumar",
      "userId": "09908096458019685835"
     },
     "user_tz": -330
    },
    "id": "IbL3TuUFdUdb",
    "outputId": "ff309aed-6bd0-4b25-e222-c8e49ef3a8ea"
   },
   "outputs": [
    {
     "name": "stdout",
     "output_type": "stream",
     "text": [
      "3.0\n"
     ]
    }
   ],
   "source": [
    "x //= 5\n",
    "print(x)"
   ]
  },
  {
   "cell_type": "code",
   "execution_count": null,
   "metadata": {
    "colab": {
     "base_uri": "https://localhost:8080/"
    },
    "executionInfo": {
     "elapsed": 8,
     "status": "ok",
     "timestamp": 1708616181929,
     "user": {
      "displayName": "Bipul Kumar",
      "userId": "09908096458019685835"
     },
     "user_tz": -330
    },
    "id": "5MvqU7xddZ6k",
    "outputId": "e9414ac6-2ce7-4376-b621-5b035ee15de1"
   },
   "outputs": [
    {
     "name": "stdout",
     "output_type": "stream",
     "text": [
      "81.0\n"
     ]
    }
   ],
   "source": [
    "x **= 4\n",
    "print(x)"
   ]
  },
  {
   "cell_type": "code",
   "execution_count": null,
   "metadata": {
    "colab": {
     "base_uri": "https://localhost:8080/"
    },
    "executionInfo": {
     "elapsed": 6,
     "status": "ok",
     "timestamp": 1708616194512,
     "user": {
      "displayName": "Bipul Kumar",
      "userId": "09908096458019685835"
     },
     "user_tz": -330
    },
    "id": "gcrFnBZsdeKS",
    "outputId": "2d408e40-f2e6-415f-ef61-1bd41dadfb8e"
   },
   "outputs": [
    {
     "name": "stdout",
     "output_type": "stream",
     "text": [
      "1.0\n"
     ]
    }
   ],
   "source": [
    "x %= 5\n",
    "print(x)"
   ]
  },
  {
   "cell_type": "code",
   "execution_count": null,
   "metadata": {
    "colab": {
     "base_uri": "https://localhost:8080/"
    },
    "executionInfo": {
     "elapsed": 12,
     "status": "ok",
     "timestamp": 1708616470663,
     "user": {
      "displayName": "Bipul Kumar",
      "userId": "09908096458019685835"
     },
     "user_tz": -330
    },
    "id": "Pk88wZBXdhUw",
    "outputId": "c4fec86e-b43a-4e80-b553-aa5803d28bcd"
   },
   "outputs": [
    {
     "name": "stdout",
     "output_type": "stream",
     "text": [
      "True\n",
      "False\n",
      "True\n",
      "True\n",
      "False\n",
      "True\n",
      "False\n"
     ]
    }
   ],
   "source": [
    "#Comparasion Operator\n",
    "z = 21\n",
    "\n",
    "print(z == 21)\n",
    "print(z != 21)\n",
    "print(z != 15)\n",
    "print(z > 15)\n",
    "print(z < 15)\n",
    "print(z >= 15)\n",
    "print(z <= 15)"
   ]
  },
  {
   "cell_type": "code",
   "execution_count": null,
   "metadata": {
    "colab": {
     "base_uri": "https://localhost:8080/"
    },
    "executionInfo": {
     "elapsed": 479,
     "status": "ok",
     "timestamp": 1708616625944,
     "user": {
      "displayName": "Bipul Kumar",
      "userId": "09908096458019685835"
     },
     "user_tz": -330
    },
    "id": "sZzkIFQVeJ8r",
    "outputId": "063dceb2-dcd3-4375-bf06-c83468e73e46"
   },
   "outputs": [
    {
     "name": "stdout",
     "output_type": "stream",
     "text": [
      "True\n",
      "True\n",
      "True\n",
      "False\n"
     ]
    }
   ],
   "source": [
    "#Logical operator\n",
    "\n",
    "print(True or True)\n",
    "print(True or False)\n",
    "print(False or True)\n",
    "print(False or False)"
   ]
  },
  {
   "cell_type": "code",
   "execution_count": null,
   "metadata": {
    "colab": {
     "base_uri": "https://localhost:8080/"
    },
    "executionInfo": {
     "elapsed": 5,
     "status": "ok",
     "timestamp": 1708616777408,
     "user": {
      "displayName": "Bipul Kumar",
      "userId": "09908096458019685835"
     },
     "user_tz": -330
    },
    "id": "4R41Qk8OfEiX",
    "outputId": "3fb6aa86-1ef9-4b96-949c-ae970451e20c"
   },
   "outputs": [
    {
     "name": "stdout",
     "output_type": "stream",
     "text": [
      "True\n",
      "True\n",
      "True\n",
      "False\n"
     ]
    }
   ],
   "source": [
    "weight = 55.6\n",
    "\n",
    "print(weight > 40 or weight < 60)\n",
    "\n",
    "print(weight > 40 or weight < 50)\n",
    "\n",
    "print(weight > 56 or weight < 60)\n",
    "\n",
    "print(weight > 56 or weight < 50)"
   ]
  },
  {
   "cell_type": "code",
   "execution_count": null,
   "metadata": {
    "colab": {
     "base_uri": "https://localhost:8080/"
    },
    "executionInfo": {
     "elapsed": 5,
     "status": "ok",
     "timestamp": 1708616811772,
     "user": {
      "displayName": "Bipul Kumar",
      "userId": "09908096458019685835"
     },
     "user_tz": -330
    },
    "id": "YP2mJCh9faIl",
    "outputId": "bad0318d-9504-4883-949a-d4f21ee03c55"
   },
   "outputs": [
    {
     "name": "stdout",
     "output_type": "stream",
     "text": [
      "True\n",
      "False\n",
      "False\n",
      "False\n"
     ]
    }
   ],
   "source": [
    "print(True and True)\n",
    "print(True and False)\n",
    "print(False and True)\n",
    "print(False and False)"
   ]
  },
  {
   "cell_type": "code",
   "execution_count": null,
   "metadata": {
    "colab": {
     "base_uri": "https://localhost:8080/"
    },
    "executionInfo": {
     "elapsed": 10,
     "status": "ok",
     "timestamp": 1708616841104,
     "user": {
      "displayName": "Bipul Kumar",
      "userId": "09908096458019685835"
     },
     "user_tz": -330
    },
    "id": "Q19E-tZ2f4B7",
    "outputId": "f80ab961-1729-446a-b558-f9a57547c238"
   },
   "outputs": [
    {
     "name": "stdout",
     "output_type": "stream",
     "text": [
      "True\n",
      "False\n",
      "False\n",
      "False\n"
     ]
    }
   ],
   "source": [
    "weight = 55.6\n",
    "\n",
    "print(weight > 40 and weight < 60)\n",
    "\n",
    "print(weight > 40 and weight < 50)\n",
    "\n",
    "print(weight > 56 and weight < 60)\n",
    "\n",
    "print(weight > 56 and weight < 50)"
   ]
  },
  {
   "cell_type": "code",
   "execution_count": null,
   "metadata": {
    "colab": {
     "base_uri": "https://localhost:8080/"
    },
    "executionInfo": {
     "elapsed": 15,
     "status": "ok",
     "timestamp": 1708616864348,
     "user": {
      "displayName": "Bipul Kumar",
      "userId": "09908096458019685835"
     },
     "user_tz": -330
    },
    "id": "dkerJCHdf8_C",
    "outputId": "b1df66c0-ddad-48b9-d8e3-fdd59ab49df5"
   },
   "outputs": [
    {
     "name": "stdout",
     "output_type": "stream",
     "text": [
      "False\n",
      "True\n",
      "True\n",
      "True\n"
     ]
    }
   ],
   "source": [
    "weight = 55.6\n",
    "\n",
    "print(not(weight > 40 and weight < 60))\n",
    "\n",
    "print(not(weight > 40 and weight < 50))\n",
    "\n",
    "print(not(weight > 56 and weight < 60))\n",
    "\n",
    "print(not(weight > 56 and weight < 50))"
   ]
  },
  {
   "cell_type": "code",
   "execution_count": null,
   "metadata": {
    "colab": {
     "base_uri": "https://localhost:8080/"
    },
    "executionInfo": {
     "elapsed": 30,
     "status": "ok",
     "timestamp": 1708617086823,
     "user": {
      "displayName": "Bipul Kumar",
      "userId": "09908096458019685835"
     },
     "user_tz": -330
    },
    "id": "pgdCchLQgEy1",
    "outputId": "8364ae3c-daf1-43b9-bc4d-14532a8bce30"
   },
   "outputs": [
    {
     "name": "stdout",
     "output_type": "stream",
     "text": [
      "True\n"
     ]
    }
   ],
   "source": [
    "#Membership Operators\n",
    "\n",
    "text = \"Python Programming is fun\"\n",
    "print(\"Python\" in text)"
   ]
  },
  {
   "cell_type": "code",
   "execution_count": null,
   "metadata": {
    "colab": {
     "base_uri": "https://localhost:8080/"
    },
    "executionInfo": {
     "elapsed": 9,
     "status": "ok",
     "timestamp": 1708617095416,
     "user": {
      "displayName": "Bipul Kumar",
      "userId": "09908096458019685835"
     },
     "user_tz": -330
    },
    "id": "D1AKWwLhg7MR",
    "outputId": "30d5c1c2-c117-4ef3-e633-7cef6fce1601"
   },
   "outputs": [
    {
     "name": "stdout",
     "output_type": "stream",
     "text": [
      "False\n"
     ]
    }
   ],
   "source": [
    "print(\"Java\" in text)"
   ]
  },
  {
   "cell_type": "code",
   "execution_count": null,
   "metadata": {
    "colab": {
     "base_uri": "https://localhost:8080/"
    },
    "executionInfo": {
     "elapsed": 6,
     "status": "ok",
     "timestamp": 1708617106573,
     "user": {
      "displayName": "Bipul Kumar",
      "userId": "09908096458019685835"
     },
     "user_tz": -330
    },
    "id": "5SLAgTjLg9Vh",
    "outputId": "1f328042-8b36-4242-fb92-332328a88695"
   },
   "outputs": [
    {
     "name": "stdout",
     "output_type": "stream",
     "text": [
      "False\n"
     ]
    }
   ],
   "source": [
    "print(\"Python\" not in text)"
   ]
  },
  {
   "cell_type": "code",
   "execution_count": null,
   "metadata": {
    "colab": {
     "base_uri": "https://localhost:8080/"
    },
    "executionInfo": {
     "elapsed": 19,
     "status": "ok",
     "timestamp": 1708617116244,
     "user": {
      "displayName": "Bipul Kumar",
      "userId": "09908096458019685835"
     },
     "user_tz": -330
    },
    "id": "OHfILBaDg_7_",
    "outputId": "1cbb3bfe-8e63-4bca-cfc0-23002964b843"
   },
   "outputs": [
    {
     "name": "stdout",
     "output_type": "stream",
     "text": [
      "True\n"
     ]
    }
   ],
   "source": [
    "print(\"Java\" not in text)"
   ]
  },
  {
   "cell_type": "code",
   "execution_count": null,
   "metadata": {
    "colab": {
     "base_uri": "https://localhost:8080/"
    },
    "executionInfo": {
     "elapsed": 15,
     "status": "ok",
     "timestamp": 1708617147545,
     "user": {
      "displayName": "Bipul Kumar",
      "userId": "09908096458019685835"
     },
     "user_tz": -330
    },
    "id": "MUXoNiH7hCa9",
    "outputId": "b22952cc-9f09-4521-8efd-27d150ab4cb0"
   },
   "outputs": [
    {
     "name": "stdout",
     "output_type": "stream",
     "text": [
      "True\n",
      "False\n"
     ]
    }
   ],
   "source": [
    "x = [5,4,3,9,8,7]\n",
    "\n",
    "print(9 in x)\n",
    "print(19 in x)"
   ]
  },
  {
   "cell_type": "code",
   "execution_count": null,
   "metadata": {
    "colab": {
     "base_uri": "https://localhost:8080/"
    },
    "executionInfo": {
     "elapsed": 9,
     "status": "ok",
     "timestamp": 1708617496906,
     "user": {
      "displayName": "Bipul Kumar",
      "userId": "09908096458019685835"
     },
     "user_tz": -330
    },
    "id": "67g6-CBohITH",
    "outputId": "3bde9110-f083-496a-8ca4-f25b83c7c20a"
   },
   "outputs": [
    {
     "name": "stdout",
     "output_type": "stream",
     "text": [
      "True\n",
      "False\n",
      "False\n"
     ]
    }
   ],
   "source": [
    "#Identity operators - True if both objects are same object in memory\n",
    "# is , is not\n",
    "\n",
    "x = [4,5,6]\n",
    "y = [4,5,6]\n",
    "\n",
    "print(x == y)\n",
    "print(x is y)\n",
    "print(y is x)"
   ]
  },
  {
   "cell_type": "code",
   "execution_count": null,
   "metadata": {
    "colab": {
     "base_uri": "https://localhost:8080/"
    },
    "executionInfo": {
     "elapsed": 11,
     "status": "ok",
     "timestamp": 1708617631671,
     "user": {
      "displayName": "Bipul Kumar",
      "userId": "09908096458019685835"
     },
     "user_tz": -330
    },
    "id": "lUwNG_g8hcLR",
    "outputId": "b04133ed-53b4-49c9-a2b8-1e51153037ee"
   },
   "outputs": [
    {
     "name": "stdout",
     "output_type": "stream",
     "text": [
      "True\n",
      "True\n",
      "False\n"
     ]
    }
   ],
   "source": [
    "a = [4,5,6]\n",
    "b = a\n",
    "\n",
    "print(a == b)\n",
    "print(a is b)\n",
    "print(a is not b)"
   ]
  },
  {
   "cell_type": "code",
   "execution_count": null,
   "metadata": {
    "id": "ESEDHCJDhq_w"
   },
   "outputs": [],
   "source": []
  }
 ],
 "metadata": {
  "colab": {
   "provenance": [
    {
     "file_id": "1ksCQ8jdnJw_0Hmh9CRV42Ema2znt_Tz5",
     "timestamp": 1710441908675
    }
   ]
  },
  "kernelspec": {
   "display_name": "Python 3 (ipykernel)",
   "language": "python",
   "name": "python3"
  },
  "language_info": {
   "codemirror_mode": {
    "name": "ipython",
    "version": 3
   },
   "file_extension": ".py",
   "mimetype": "text/x-python",
   "name": "python",
   "nbconvert_exporter": "python",
   "pygments_lexer": "ipython3",
   "version": "3.11.6"
  }
 },
 "nbformat": 4,
 "nbformat_minor": 4
}
