{
 "cells": [
  {
   "cell_type": "markdown",
   "id": "16bc0455-dbfe-464e-b6d8-46b66f5ca4cf",
   "metadata": {},
   "source": [
    "### Numpy's most useful feature is n dimensional array object (a.k.a ndarray)"
   ]
  },
  {
   "cell_type": "code",
   "execution_count": 2,
   "id": "4befdaad-94e4-4a98-9da1-e7eee14ef4d4",
   "metadata": {},
   "outputs": [
    {
     "data": {
      "text/plain": [
       "array([1, 2, 3])"
      ]
     },
     "execution_count": 2,
     "metadata": {},
     "output_type": "execute_result"
    }
   ],
   "source": [
    "import numpy as np\n",
    "a = np.array([1,2,3])\n",
    "a"
   ]
  },
  {
   "cell_type": "code",
   "execution_count": 4,
   "id": "f63ed3d0-0bfc-4093-9d19-611d88dc41d6",
   "metadata": {},
   "outputs": [
    {
     "data": {
      "text/plain": [
       "1"
      ]
     },
     "execution_count": 4,
     "metadata": {},
     "output_type": "execute_result"
    }
   ],
   "source": [
    "a[0]"
   ]
  },
  {
   "cell_type": "code",
   "execution_count": 5,
   "id": "2e8f33f3-bb32-4f12-9962-b1eda2e87aa6",
   "metadata": {},
   "outputs": [
    {
     "data": {
      "text/plain": [
       "2"
      ]
     },
     "execution_count": 5,
     "metadata": {},
     "output_type": "execute_result"
    }
   ],
   "source": [
    "a[1]"
   ]
  },
  {
   "cell_type": "markdown",
   "id": "3737f919-de58-485c-9510-cb6452ad3be0",
   "metadata": {},
   "source": [
    "### It is same like python list but what's special about it?"
   ]
  },
  {
   "cell_type": "markdown",
   "id": "31271b34-32ac-4906-88ff-ce48a6b26a51",
   "metadata": {},
   "source": [
    "3 main benfits of numpy array over a python list,\n",
    "1. Less Memory\n",
    "2. Fast\n",
    "3. Convinient\n"
   ]
  },
  {
   "cell_type": "markdown",
   "id": "3732d19f-0559-4e34-b133-1858c5138c6d",
   "metadata": {},
   "source": [
    "Comparing the python lists and numpy array."
   ]
  },
  {
   "cell_type": "code",
   "execution_count": 7,
   "id": "108bb0f6-796a-4472-83a7-104f8eaa3f9f",
   "metadata": {},
   "outputs": [],
   "source": [
    "import numpy as np\n",
    "import time\n",
    "import sys"
   ]
  },
  {
   "cell_type": "markdown",
   "id": "9d14af3f-54c4-4755-b531-80c88e02fd53",
   "metadata": {},
   "source": [
    "### size took by pythonlist and numpy array"
   ]
  },
  {
   "cell_type": "code",
   "execution_count": 14,
   "id": "36faca68-8309-4a8a-9459-0fcdbc066eca",
   "metadata": {},
   "outputs": [
    {
     "name": "stdout",
     "output_type": "stream",
     "text": [
      "28000\n"
     ]
    }
   ],
   "source": [
    "l = range(1000)\n",
    "print(sys.getsizeof(5)*len(l))"
   ]
  },
  {
   "cell_type": "code",
   "execution_count": 15,
   "id": "94c13e34-b3f8-4ded-bb00-d45a3bc0bf68",
   "metadata": {},
   "outputs": [
    {
     "name": "stdout",
     "output_type": "stream",
     "text": [
      "4000\n"
     ]
    }
   ],
   "source": [
    "array = np.arange(1000)\n",
    "print(array.size*array.itemsize)"
   ]
  },
  {
   "cell_type": "markdown",
   "id": "deefa0f9-75a2-40ed-a180-20abb366a1d2",
   "metadata": {},
   "source": [
    "### Time took for adding the lists and numpy array"
   ]
  },
  {
   "cell_type": "code",
   "execution_count": 28,
   "id": "6d78c09c-75ac-453e-a859-1b9ba49804da",
   "metadata": {},
   "outputs": [],
   "source": [
    "size = 10000000\n",
    "l1 = range(size)\n",
    "l2 = range(size)\n",
    "a1 = np.arange(size)\n",
    "a2 = np.arange(size)"
   ]
  },
  {
   "cell_type": "code",
   "execution_count": 29,
   "id": "74c8434f-70ad-485d-bfb5-a9183c1f5ede",
   "metadata": {},
   "outputs": [
    {
     "name": "stdout",
     "output_type": "stream",
     "text": [
      "python list took :  897.0329761505127\n"
     ]
    }
   ],
   "source": [
    "#pythonlist\n",
    "start = time.time()\n",
    "result = [(x+y) for x,y in zip(l1,l2)]\n",
    "print(\"python list took : \", (time.time()-start)*1000) #to convert seconds to milli seconds *1000"
   ]
  },
  {
   "cell_type": "code",
   "execution_count": 30,
   "id": "33fc1d81-072d-4bd0-9431-481d274c0167",
   "metadata": {},
   "outputs": [
    {
     "name": "stdout",
     "output_type": "stream",
     "text": [
      "numpy took:  151.5982151031494\n"
     ]
    }
   ],
   "source": [
    "#numpy array\n",
    "start = time.time()\n",
    "result = a1 + a2\n",
    "print(\"numpy took: \", (time.time()-start)*1000)  #to convert seconds to milli seconds *1000"
   ]
  },
  {
   "cell_type": "code",
   "execution_count": 31,
   "id": "a9a961bf-a339-49cf-bd99-b2bd64a32dbf",
   "metadata": {},
   "outputs": [
    {
     "name": "stdout",
     "output_type": "stream",
     "text": [
      "[3, 2, 4, 5, 7, 8, 3, 2, 4, 5, 7, 8]\n"
     ]
    }
   ],
   "source": [
    "num_list = [3,2,4,5,7,8]\n",
    "print(num_list * 2) #it doubles the elements in the list "
   ]
  },
  {
   "cell_type": "code",
   "execution_count": 32,
   "id": "68729ba7-e378-4a25-8e51-755963dcbd27",
   "metadata": {},
   "outputs": [
    {
     "data": {
      "text/plain": [
       "[6, 4, 8, 10, 14, 16]"
      ]
     },
     "execution_count": 32,
     "metadata": {},
     "output_type": "execute_result"
    }
   ],
   "source": [
    "[val*2 for val in num_list]"
   ]
  },
  {
   "cell_type": "code",
   "execution_count": 33,
   "id": "94a23c7f-f5b0-494b-ac20-84ad8adfc758",
   "metadata": {},
   "outputs": [
    {
     "name": "stdout",
     "output_type": "stream",
     "text": [
      "[3 2 4 5 7 8]\n"
     ]
    }
   ],
   "source": [
    "import numpy as np\n",
    "\n",
    "n1 = np.array(num_list)\n",
    "print(n1)"
   ]
  },
  {
   "cell_type": "code",
   "execution_count": 34,
   "id": "33239fd5-40a8-472c-936f-3bcbc2e97706",
   "metadata": {},
   "outputs": [
    {
     "name": "stdout",
     "output_type": "stream",
     "text": [
      "[ 9  6 12 15 21 24]\n"
     ]
    }
   ],
   "source": [
    "print(n1*3)"
   ]
  },
  {
   "cell_type": "code",
   "execution_count": 35,
   "id": "93b620a4-93b6-4a9f-90fb-0192005150d8",
   "metadata": {},
   "outputs": [
    {
     "name": "stdout",
     "output_type": "stream",
     "text": [
      "1\n"
     ]
    }
   ],
   "source": [
    "print(n1.ndim)"
   ]
  },
  {
   "cell_type": "code",
   "execution_count": 39,
   "id": "7b944fb4-d68d-421b-a946-7e579ee16e1d",
   "metadata": {},
   "outputs": [
    {
     "name": "stdout",
     "output_type": "stream",
     "text": [
      "[[ 5  7  8  3  2]\n",
      " [15 71 25  6 31]\n",
      " [ 2  6  9  4  3]]\n"
     ]
    }
   ],
   "source": [
    "#array() - to create an array using numpy\n",
    "n2 = np.array([[5,7,8,3,2] , [15,71,25,6,31] , [2,6,9,4,3]])\n",
    "print(n2)"
   ]
  },
  {
   "cell_type": "code",
   "execution_count": 40,
   "id": "2f650cef-ed27-4595-a85d-45ef2cdd9003",
   "metadata": {},
   "outputs": [
    {
     "name": "stdout",
     "output_type": "stream",
     "text": [
      "(3, 5)\n",
      "2\n",
      "15\n"
     ]
    }
   ],
   "source": [
    "print(n2.shape)\n",
    "print(n2.ndim)\n",
    "print(n2.size)"
   ]
  },
  {
   "cell_type": "code",
   "execution_count": 41,
   "id": "4d6c185d-2cf5-4c16-a0dc-e0fe6cf057fa",
   "metadata": {},
   "outputs": [
    {
     "name": "stdout",
     "output_type": "stream",
     "text": [
      "[[ 5  7  8  3  2]\n",
      " [15 71 25  6 31]\n",
      " [ 2  6  9  4  3]]\n"
     ]
    }
   ],
   "source": [
    "print(n2)"
   ]
  },
  {
   "cell_type": "code",
   "execution_count": 42,
   "id": "7f3ebc80-7088-48c9-bb88-0657e7150035",
   "metadata": {},
   "outputs": [
    {
     "name": "stdout",
     "output_type": "stream",
     "text": [
      "25\n",
      "4\n",
      "6\n"
     ]
    }
   ],
   "source": [
    "#indexing in numpy\n",
    "print(n2[1,2])\n",
    "print(n2[2,3])\n",
    "print(n2[2,1])"
   ]
  },
  {
   "cell_type": "code",
   "execution_count": 51,
   "id": "5ea2cee7-98bf-4f1b-991c-4a971ce67732",
   "metadata": {},
   "outputs": [
    {
     "name": "stdout",
     "output_type": "stream",
     "text": [
      "[[25  6]\n",
      " [ 9  4]]\n"
     ]
    }
   ],
   "source": [
    "#slicing\n",
    "#array[initial_row_index : initial_row_index + number_of_rows, initial_column_index : initial_column_index + number_of_columns]\n",
    "print(n2[1:3,2:4])"
   ]
  },
  {
   "cell_type": "code",
   "execution_count": 72,
   "id": "6c37034a-73f1-4388-b310-2d59e0506423",
   "metadata": {},
   "outputs": [
    {
     "name": "stdout",
     "output_type": "stream",
     "text": [
      "[ 1  2  3  4  5  6  7  8  9 10 11 12 13 14 15 16 17 18 19 20 21 22 23 24\n",
      " 25 26 27 28 29 30 31 32 33 34 35 36]\n"
     ]
    }
   ],
   "source": [
    "#arrange => to define an array in a given range\n",
    "n3 = np.arange(1,37)\n",
    "print(n3)"
   ]
  },
  {
   "cell_type": "code",
   "execution_count": 73,
   "id": "0115da29-e9fa-4eea-9846-0d20c5dc9250",
   "metadata": {},
   "outputs": [
    {
     "name": "stdout",
     "output_type": "stream",
     "text": [
      "[[ 1  2  3  4  5  6]\n",
      " [ 7  8  9 10 11 12]\n",
      " [13 14 15 16 17 18]\n",
      " [19 20 21 22 23 24]\n",
      " [25 26 27 28 29 30]\n",
      " [31 32 33 34 35 36]]\n"
     ]
    }
   ],
   "source": [
    "#reshape an array => reshape()\n",
    "#36 => (1,36), (36,1), (2,18), (18,2), (3,12), (12,3), (4,9), (9,4) , (6,6)\n",
    "\n",
    "n4 = n3.reshape(6,6)\n",
    "print(n4)"
   ]
  },
  {
   "cell_type": "code",
   "execution_count": 74,
   "id": "02f358c6-1eb1-419f-b12f-97374f181de5",
   "metadata": {},
   "outputs": [
    {
     "name": "stdout",
     "output_type": "stream",
     "text": [
      "[[22 23 24]\n",
      " [28 29 30]\n",
      " [34 35 36]]\n"
     ]
    }
   ],
   "source": [
    "print(n4[3:,3:])"
   ]
  },
  {
   "cell_type": "code",
   "execution_count": 75,
   "id": "bbd2dcc9-beed-4152-a1b8-63491ad9bd3e",
   "metadata": {},
   "outputs": [
    {
     "name": "stdout",
     "output_type": "stream",
     "text": [
      "[[ 1]\n",
      " [ 7]\n",
      " [13]\n",
      " [19]\n",
      " [25]\n",
      " [31]]\n"
     ]
    }
   ],
   "source": [
    "#to separate 1st column\n",
    "print(n4[: , 0:1])"
   ]
  },
  {
   "cell_type": "code",
   "execution_count": 76,
   "id": "b2a216ee-b5ce-485d-b596-4f76d2bb7029",
   "metadata": {},
   "outputs": [
    {
     "name": "stdout",
     "output_type": "stream",
     "text": [
      "[[25 26 27 28 29 30]]\n"
     ]
    }
   ],
   "source": [
    "print(n4[4:5 , :])"
   ]
  },
  {
   "cell_type": "markdown",
   "id": "9d621e34-a11b-42a1-9312-aa7312c9bd60",
   "metadata": {},
   "source": [
    "### funcions in numpy"
   ]
  },
  {
   "cell_type": "code",
   "execution_count": 77,
   "id": "4629d71f-2805-4c88-a1d5-e85c88b069e3",
   "metadata": {},
   "outputs": [
    {
     "name": "stdout",
     "output_type": "stream",
     "text": [
      "18.5\n",
      "666\n",
      "0\n",
      "1\n",
      "10.388294694831615\n",
      "35\n",
      "0\n"
     ]
    }
   ],
   "source": [
    "print(np.mean(n4))\n",
    "print(np.sum(n4))\n",
    "print(np.prod(n4))\n",
    "print(np.min(n4))\n",
    "print(np.std(n4))\n",
    "print(np.argmax(n4))\n",
    "print(np.argmin(n4))"
   ]
  },
  {
   "cell_type": "code",
   "execution_count": 78,
   "id": "9c997871-82d1-49aa-9929-73e712297011",
   "metadata": {},
   "outputs": [
    {
     "name": "stdout",
     "output_type": "stream",
     "text": [
      "[[ 1  2  3  4  5  6]\n",
      " [ 7  8  9 10 11 12]\n",
      " [13 14 15 16 17 18]\n",
      " [19 20 21 22 23 24]\n",
      " [25 26 27 28 29 30]\n",
      " [31 32 33 34 35 36]]\n"
     ]
    }
   ],
   "source": [
    "print(n4)"
   ]
  },
  {
   "cell_type": "code",
   "execution_count": 79,
   "id": "4595b49d-2d19-48ed-85b9-84d1a64b4426",
   "metadata": {},
   "outputs": [
    {
     "name": "stdout",
     "output_type": "stream",
     "text": [
      "[16. 17. 18. 19. 20. 21.]\n",
      "[ 96 102 108 114 120 126]\n",
      "[ 1339975  3727360  7577955 13404160 21827575 33592320]\n",
      "[1 2 3 4 5 6]\n",
      "[10.24695077 10.24695077 10.24695077 10.24695077 10.24695077 10.24695077]\n",
      "[5 5 5 5 5 5]\n",
      "[0 0 0 0 0 0]\n"
     ]
    }
   ],
   "source": [
    "#axis in numpy functions, axis=0 => calculate for each column\n",
    "\n",
    "print(np.mean(n4 , axis = 0))\n",
    "print(np.sum(n4, axis = 0))\n",
    "print(np.prod(n4, axis = 0))\n",
    "print(np.min(n4, axis = 0))\n",
    "print(np.std(n4, axis = 0))\n",
    "print(np.argmax(n4, axis = 0))\n",
    "print(np.argmin(n4, axis = 0))"
   ]
  },
  {
   "cell_type": "code",
   "execution_count": 80,
   "id": "1c200dea-7f62-4412-9865-b068e46b32f2",
   "metadata": {},
   "outputs": [
    {
     "name": "stdout",
     "output_type": "stream",
     "text": [
      "[ 3.5  9.5 15.5 21.5 27.5 33.5]\n",
      "[ 21  57  93 129 165 201]\n",
      "[       720     665280   13366080   96909120  427518000 1402410240]\n",
      "[ 1  7 13 19 25 31]\n",
      "[1.70782513 1.70782513 1.70782513 1.70782513 1.70782513 1.70782513]\n",
      "[5 5 5 5 5 5]\n",
      "[0 0 0 0 0 0]\n"
     ]
    }
   ],
   "source": [
    "#axis in numpy functions, axis=1 => calculate for each row\n",
    "\n",
    "print(np.mean(n4 , axis = 1))\n",
    "print(np.sum(n4, axis = 1))\n",
    "print(np.prod(n4, axis = 1))\n",
    "print(np.min(n4, axis = 1))\n",
    "print(np.std(n4, axis = 1))\n",
    "print(np.argmax(n4, axis = 1))\n",
    "print(np.argmin(n4, axis = 1))"
   ]
  },
  {
   "cell_type": "code",
   "execution_count": 81,
   "id": "05194bae-ecd3-40ad-8e64-b5ddc4cab333",
   "metadata": {},
   "outputs": [
    {
     "data": {
      "text/plain": [
       "array([[1., 1.],\n",
       "       [1., 1.],\n",
       "       [1., 1.]])"
      ]
     },
     "execution_count": 81,
     "metadata": {},
     "output_type": "execute_result"
    }
   ],
   "source": [
    "np.ones((3,2))"
   ]
  },
  {
   "cell_type": "code",
   "execution_count": 83,
   "id": "beadf386-3c50-4327-a11b-a02c51e67dcf",
   "metadata": {},
   "outputs": [
    {
     "data": {
      "text/plain": [
       "array([[0., 0., 0., 0.],\n",
       "       [0., 0., 0., 0.]])"
      ]
     },
     "execution_count": 83,
     "metadata": {},
     "output_type": "execute_result"
    }
   ],
   "source": [
    "np.zeros((2,4))"
   ]
  },
  {
   "cell_type": "code",
   "execution_count": 84,
   "id": "b2ae6a49-674e-4070-8874-dc3adddf8b3c",
   "metadata": {},
   "outputs": [
    {
     "data": {
      "text/plain": [
       "array([[1., 0., 0.],\n",
       "       [0., 1., 0.],\n",
       "       [0., 0., 1.]])"
      ]
     },
     "execution_count": 84,
     "metadata": {},
     "output_type": "execute_result"
    }
   ],
   "source": [
    "np.eye(3)"
   ]
  },
  {
   "cell_type": "code",
   "execution_count": 87,
   "id": "5a5160cf-c288-4234-9707-f8b8b88b525e",
   "metadata": {},
   "outputs": [
    {
     "data": {
      "text/plain": [
       "16"
      ]
     },
     "execution_count": 87,
     "metadata": {},
     "output_type": "execute_result"
    }
   ],
   "source": [
    "np.random.randint(0,20)"
   ]
  },
  {
   "cell_type": "code",
   "execution_count": 88,
   "id": "8293cbb8-265e-46a7-a9fa-f2ec4268e112",
   "metadata": {},
   "outputs": [
    {
     "data": {
      "text/plain": [
       "array([[ 3,  0],\n",
       "       [ 5, 14],\n",
       "       [17,  9]])"
      ]
     },
     "execution_count": 88,
     "metadata": {},
     "output_type": "execute_result"
    }
   ],
   "source": [
    "np.random.randint(0,20, size=(3,2))"
   ]
  },
  {
   "cell_type": "code",
   "execution_count": 89,
   "id": "6028a103-ae58-4316-8787-b9232f5a0caa",
   "metadata": {},
   "outputs": [
    {
     "name": "stdout",
     "output_type": "stream",
     "text": [
      "[[ 5  7  8  3  2]\n",
      " [15 71 25  6 31]\n",
      " [ 2  6  9  4  3]]\n"
     ]
    }
   ],
   "source": [
    "print(n2)"
   ]
  },
  {
   "cell_type": "code",
   "execution_count": 90,
   "id": "4d30fe91-5355-49b2-a023-5b2a8f9086b8",
   "metadata": {},
   "outputs": [
    {
     "data": {
      "text/plain": [
       "(array([1], dtype=int64), array([2], dtype=int64))"
      ]
     },
     "execution_count": 90,
     "metadata": {},
     "output_type": "execute_result"
    }
   ],
   "source": [
    "np.where(n2 == 25)"
   ]
  },
  {
   "cell_type": "code",
   "execution_count": 95,
   "id": "1c80de88-109b-4189-907c-96e0c7a07256",
   "metadata": {},
   "outputs": [
    {
     "name": "stdout",
     "output_type": "stream",
     "text": [
      "[[4 5 7 2]\n",
      " [7 4 9 3]\n",
      " [9 1 1 2]]\n"
     ]
    }
   ],
   "source": [
    "#dot product using numpy\n",
    "\n",
    "a = np.array([[4,5,7,2] , [7,4,9,3] , [9,1,1,2]])\n",
    "print(a)"
   ]
  },
  {
   "cell_type": "code",
   "execution_count": 96,
   "id": "fc0c3beb-c77b-41b2-8e2a-aa755c1b206c",
   "metadata": {},
   "outputs": [
    {
     "name": "stdout",
     "output_type": "stream",
     "text": [
      "[[2 1 2 2]\n",
      " [1 3 3 1]]\n"
     ]
    }
   ],
   "source": [
    "b = np.array([[2,1,2,2] , [1,3,3,1]])\n",
    "print(b)"
   ]
  },
  {
   "cell_type": "code",
   "execution_count": 99,
   "id": "5764514c-77ba-4cf3-9dbc-583379744953",
   "metadata": {},
   "outputs": [
    {
     "name": "stdout",
     "output_type": "stream",
     "text": [
      "[[31 42]\n",
      " [42 49]\n",
      " [25 17]]\n"
     ]
    }
   ],
   "source": [
    "print(np.dot(a,b.T))"
   ]
  },
  {
   "cell_type": "code",
   "execution_count": 101,
   "id": "5af3921c-02e7-495b-b7fc-e6cbe7b87372",
   "metadata": {},
   "outputs": [
    {
     "name": "stdout",
     "output_type": "stream",
     "text": [
      "[[3 2 1]\n",
      " [2 3 5]\n",
      " [3 4 3]]\n"
     ]
    }
   ],
   "source": [
    "#3x + 2y + z = 7\n",
    "#2x + 3y + 5z = 14\n",
    "#3x + 4y + 3z = 21\n",
    "\n",
    "A=np.array([[3,2,1],[2,3,5],[3,4,3]])\n",
    "print(A)"
   ]
  },
  {
   "cell_type": "code",
   "execution_count": 102,
   "id": "54e48173-abf7-4da3-af03-cdd3438e837b",
   "metadata": {},
   "outputs": [
    {
     "name": "stdout",
     "output_type": "stream",
     "text": [
      "[[ 7]\n",
      " [14]\n",
      " [21]]\n"
     ]
    }
   ],
   "source": [
    "B = np.array([[7],[14],[21]])\n",
    "print(B)"
   ]
  },
  {
   "cell_type": "code",
   "execution_count": 103,
   "id": "de670c2e-2a68-4853-86b5-f6983a9ec125",
   "metadata": {},
   "outputs": [
    {
     "name": "stdout",
     "output_type": "stream",
     "text": [
      "[[ 0.6875  0.125  -0.4375]\n",
      " [-0.5625 -0.375   0.8125]\n",
      " [ 0.0625  0.375  -0.3125]]\n"
     ]
    }
   ],
   "source": [
    "#A.X = B\n",
    "#X = inv(A).B\n",
    "\n",
    "Ainv = np.linalg.inv(A)\n",
    "print(Ainv)"
   ]
  },
  {
   "cell_type": "code",
   "execution_count": 104,
   "id": "8cb85208-d954-4410-9915-d31fe7c5a6bc",
   "metadata": {},
   "outputs": [
    {
     "name": "stdout",
     "output_type": "stream",
     "text": [
      "[[-2.625]\n",
      " [ 7.875]\n",
      " [-0.875]]\n"
     ]
    }
   ],
   "source": [
    "X = np.dot(Ainv,B)\n",
    "print(X)"
   ]
  },
  {
   "cell_type": "code",
   "execution_count": 105,
   "id": "58b83ca5-3241-48f9-be99-b1b60815194b",
   "metadata": {},
   "outputs": [
    {
     "data": {
      "text/plain": [
       "array([[ 7.],\n",
       "       [14.],\n",
       "       [21.]])"
      ]
     },
     "execution_count": 105,
     "metadata": {},
     "output_type": "execute_result"
    }
   ],
   "source": [
    "np.dot(A,X)"
   ]
  },
  {
   "cell_type": "markdown",
   "id": "f8200d3d-6895-4f5c-bc12-fde2816b15cc",
   "metadata": {},
   "source": [
    "* Broadcasting\n",
    "  * It's a mechanism that allows array of different shapes to combined together for         arrithmetic operations.\n",
    "  * It helps to perform operations even if the arrays do not have same shapes, by implicitly extending the smaller array to match the shape of larger one."
   ]
  },
  {
   "cell_type": "code",
   "execution_count": 106,
   "id": "c86ee429-85aa-4d2a-a2c1-66d4cc54b398",
   "metadata": {},
   "outputs": [
    {
     "name": "stdout",
     "output_type": "stream",
     "text": [
      "[[4 1 3]\n",
      " [2 7 6]]\n"
     ]
    }
   ],
   "source": [
    "n1 = np.array([[4,1,3],[2,7,6]])\n",
    "print(n1)"
   ]
  },
  {
   "cell_type": "code",
   "execution_count": 107,
   "id": "ddd05cbb-5fb4-4b65-b5a7-2f9c7eadabb8",
   "metadata": {},
   "outputs": [],
   "source": [
    "k = 5"
   ]
  },
  {
   "cell_type": "code",
   "execution_count": 108,
   "id": "46e51d3d-ae77-4a49-93ca-2f4e2b61e4cb",
   "metadata": {},
   "outputs": [
    {
     "name": "stdout",
     "output_type": "stream",
     "text": [
      "[[20  5 15]\n",
      " [10 35 30]]\n"
     ]
    }
   ],
   "source": [
    "print(n1 * 5)"
   ]
  },
  {
   "cell_type": "code",
   "execution_count": 109,
   "id": "99131030-1c8f-4784-944e-068a55ea2ff2",
   "metadata": {},
   "outputs": [
    {
     "name": "stdout",
     "output_type": "stream",
     "text": [
      "[[1]\n",
      " [2]]\n"
     ]
    }
   ],
   "source": [
    "#Broadcasting for columns \n",
    "\n",
    "n2 = np.array([[1],[2]])\n",
    "print(n2)"
   ]
  },
  {
   "cell_type": "code",
   "execution_count": 110,
   "id": "d6397e81-e83c-46b8-aa4e-5f3279e65b5f",
   "metadata": {},
   "outputs": [
    {
     "name": "stdout",
     "output_type": "stream",
     "text": [
      "[[ 4  1  3]\n",
      " [ 4 14 12]]\n"
     ]
    }
   ],
   "source": [
    "print(n1 * n2)"
   ]
  },
  {
   "cell_type": "code",
   "execution_count": 113,
   "id": "081f8cf0-63d2-4642-bd6e-f2418c20d89c",
   "metadata": {},
   "outputs": [
    {
     "name": "stdout",
     "output_type": "stream",
     "text": [
      "[[3 2 1]]\n"
     ]
    }
   ],
   "source": [
    "#Broadcasting for rows\n",
    "\n",
    "n3 = np.array([[3,2,1]])\n",
    "print(n3)"
   ]
  },
  {
   "cell_type": "code",
   "execution_count": 114,
   "id": "09d53a1d-b44e-4e57-9a9f-9a617204149b",
   "metadata": {},
   "outputs": [
    {
     "name": "stdout",
     "output_type": "stream",
     "text": [
      "[[4 1 3]\n",
      " [2 7 6]]\n"
     ]
    }
   ],
   "source": [
    "print(n1)"
   ]
  },
  {
   "cell_type": "code",
   "execution_count": 115,
   "id": "5b49d102-a3bf-4807-9d4f-6d4ff76e9415",
   "metadata": {},
   "outputs": [
    {
     "name": "stdout",
     "output_type": "stream",
     "text": [
      "[[12  2  3]\n",
      " [ 6 14  6]]\n"
     ]
    }
   ],
   "source": [
    "print(n1 * n3)"
   ]
  },
  {
   "cell_type": "code",
   "execution_count": 116,
   "id": "81e5c3da-3218-446e-a50f-e7dcee223f1a",
   "metadata": {},
   "outputs": [
    {
     "name": "stdout",
     "output_type": "stream",
     "text": [
      "[[2 3 1]\n",
      " [1 2 3]]\n"
     ]
    }
   ],
   "source": [
    "#two array with same shape\n",
    "\n",
    "n4 = np.array([[2,3,1],[1,2,3]])\n",
    "print(n4)"
   ]
  },
  {
   "cell_type": "code",
   "execution_count": 117,
   "id": "768a1d22-5713-4d14-adfe-9286efba1816",
   "metadata": {},
   "outputs": [
    {
     "name": "stdout",
     "output_type": "stream",
     "text": [
      "[[4 1 3]\n",
      " [2 7 6]]\n"
     ]
    }
   ],
   "source": [
    "print(n1)"
   ]
  },
  {
   "cell_type": "code",
   "execution_count": 118,
   "id": "f7b7d128-77eb-43d4-9127-82c6952e836b",
   "metadata": {},
   "outputs": [
    {
     "ename": "ValueError",
     "evalue": "operands could not be broadcast together with shapes (2,3) (1,4) ",
     "output_type": "error",
     "traceback": [
      "\u001b[1;31m---------------------------------------------------------------------------\u001b[0m",
      "\u001b[1;31mValueError\u001b[0m                                Traceback (most recent call last)",
      "Cell \u001b[1;32mIn[118], line 2\u001b[0m\n\u001b[0;32m      1\u001b[0m n5 \u001b[38;5;241m=\u001b[39m np\u001b[38;5;241m.\u001b[39marray([[\u001b[38;5;241m1\u001b[39m,\u001b[38;5;241m2\u001b[39m,\u001b[38;5;241m3\u001b[39m,\u001b[38;5;241m5\u001b[39m]])\n\u001b[1;32m----> 2\u001b[0m \u001b[38;5;28mprint\u001b[39m(\u001b[43mn1\u001b[49m\u001b[43m \u001b[49m\u001b[38;5;241;43m*\u001b[39;49m\u001b[43m \u001b[49m\u001b[43mn5\u001b[49m)\n",
      "\u001b[1;31mValueError\u001b[0m: operands could not be broadcast together with shapes (2,3) (1,4) "
     ]
    }
   ],
   "source": [
    "n5 = np.array([[1,2,3,5]])\n",
    "print(n1 * n5)"
   ]
  },
  {
   "cell_type": "code",
   "execution_count": 120,
   "id": "e6100e00-b060-46bd-b0a8-03fde8f16bed",
   "metadata": {},
   "outputs": [
    {
     "name": "stdout",
     "output_type": "stream",
     "text": [
      "[[2 3 4]\n",
      " [1 2 3]]\n",
      "*****\n",
      "[[3 4 5]]\n"
     ]
    }
   ],
   "source": [
    "#joining or stacking \n",
    "\n",
    "#vertical stacking\n",
    "\n",
    "n1 = np.array([[2,3,4],[1,2,3]])\n",
    "print(n1)\n",
    "print(\"*****\")\n",
    "n2 = np.array([[3,4,5]])\n",
    "print(n2)"
   ]
  },
  {
   "cell_type": "code",
   "execution_count": 121,
   "id": "10f344a7-a69d-4b25-a88b-f5a9d375e705",
   "metadata": {},
   "outputs": [
    {
     "name": "stdout",
     "output_type": "stream",
     "text": [
      "[[2 3 4]\n",
      " [1 2 3]\n",
      " [3 4 5]]\n"
     ]
    }
   ],
   "source": [
    "n3 = np.vstack((n1,n2))\n",
    "print(n3)\n"
   ]
  },
  {
   "cell_type": "code",
   "execution_count": 122,
   "id": "594c7bc4-366f-4ac6-9e17-0ba40b9c304a",
   "metadata": {},
   "outputs": [
    {
     "name": "stdout",
     "output_type": "stream",
     "text": [
      "[[2 3 4]\n",
      " [1 2 3]]\n",
      "*****\n",
      "[[11 12]\n",
      " [13 15]]\n"
     ]
    }
   ],
   "source": [
    "#Horizontal stack\n",
    "\n",
    "n1 = np.array([[2,3,4],[1,2,3]])\n",
    "print(n1)\n",
    "print(\"*****\")\n",
    "n4 = np.array([[11,12],[13,15]])\n",
    "print(n4)"
   ]
  },
  {
   "cell_type": "code",
   "execution_count": 123,
   "id": "2bdce1b5-914d-4757-8cb2-98eb64eaa0d5",
   "metadata": {},
   "outputs": [
    {
     "name": "stdout",
     "output_type": "stream",
     "text": [
      "[[ 2  3  4 11 12]\n",
      " [ 1  2  3 13 15]]\n"
     ]
    }
   ],
   "source": [
    "n5 = np.hstack((n1,n4))\n",
    "print(n5)"
   ]
  },
  {
   "cell_type": "code",
   "execution_count": 124,
   "id": "69fe2d24-53c0-442f-bb09-3a8934a61bad",
   "metadata": {},
   "outputs": [
    {
     "name": "stdout",
     "output_type": "stream",
     "text": [
      "[[2 3 4]\n",
      " [1 2 3]]\n",
      "*****\n",
      "[[11 12]\n",
      " [13 15]]\n"
     ]
    }
   ],
   "source": [
    "n1=np.array([[2,3,4],[1,2,3]])\n",
    "print(n1)\n",
    "print(\"*****\")\n",
    "n4=np.array([[11,12],[13,15]])\n",
    "print(n4)"
   ]
  },
  {
   "cell_type": "code",
   "execution_count": 128,
   "id": "1aaecfe5-ee5f-4c3e-9b75-a957de6fdc1b",
   "metadata": {},
   "outputs": [
    {
     "data": {
      "text/plain": [
       "array([[ 2,  3,  4, 11, 12],\n",
       "       [ 1,  2,  3, 13, 15]])"
      ]
     },
     "execution_count": 128,
     "metadata": {},
     "output_type": "execute_result"
    }
   ],
   "source": [
    "#Concatenate horizontally , axis=1\n",
    "np.concatenate((n1,n4),axis=1)"
   ]
  },
  {
   "cell_type": "code",
   "execution_count": 129,
   "id": "9fd13f59-769c-4817-a498-0470c649879f",
   "metadata": {},
   "outputs": [
    {
     "data": {
      "text/plain": [
       "array([[2, 3, 4],\n",
       "       [1, 2, 3],\n",
       "       [3, 4, 5]])"
      ]
     },
     "execution_count": 129,
     "metadata": {},
     "output_type": "execute_result"
    }
   ],
   "source": [
    "#Concatenate Vertically , axis=0\n",
    "np.concatenate((n1,n2),axis=0)"
   ]
  },
  {
   "cell_type": "code",
   "execution_count": null,
   "id": "fdc3f1da-1312-4bcd-8226-d3dd89de3346",
   "metadata": {},
   "outputs": [],
   "source": []
  }
 ],
 "metadata": {
  "kernelspec": {
   "display_name": "Python 3 (ipykernel)",
   "language": "python",
   "name": "python3"
  },
  "language_info": {
   "codemirror_mode": {
    "name": "ipython",
    "version": 3
   },
   "file_extension": ".py",
   "mimetype": "text/x-python",
   "name": "python",
   "nbconvert_exporter": "python",
   "pygments_lexer": "ipython3",
   "version": "3.11.6"
  }
 },
 "nbformat": 4,
 "nbformat_minor": 5
}
